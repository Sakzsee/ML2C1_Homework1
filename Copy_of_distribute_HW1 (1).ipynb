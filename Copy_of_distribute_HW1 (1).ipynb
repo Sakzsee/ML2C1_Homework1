{
  "nbformat": 4,
  "nbformat_minor": 0,
  "metadata": {
    "colab": {
      "name": "Copy of distribute_HW1",
      "provenance": [],
      "collapsed_sections": [
        "qkRlyqZTz4CJ",
        "4fTrnp7zQMsq",
        "xEZXt6t7ZsOj",
        "GnEmcDVw7ExX",
        "6xULnXHxmtOf"
      ],
      "toc_visible": true
    },
    "kernelspec": {
      "name": "python3",
      "display_name": "Python 3"
    }
  },
  "cells": [
    {
      "cell_type": "markdown",
      "metadata": {
        "id": "EaA1H2AHyVWQ"
      },
      "source": [
        "# ML-2: Trees, Model Interrogation and Bayesian Workflow\n",
        "# Homework 1: Harnessing data to help the heart!\n",
        "\n",
        "**ML-2 Cohort 1** <br>\n",
        "**Instructor: Dr. Rahul Dave**<br>\n",
        "**Max Score: 100** <br>"
      ]
    },
    {
      "cell_type": "markdown",
      "metadata": {
        "id": "qkRlyqZTz4CJ"
      },
      "source": [
        "#### **Name of people who have worked on this homework:**\n",
        "- Vishnu M\n",
        "- Anshika Gupta"
      ]
    },
    {
      "cell_type": "markdown",
      "metadata": {
        "id": "vQSvK4tZ3ias"
      },
      "source": [
        "## Table of Contents "
      ]
    },
    {
      "cell_type": "markdown",
      "metadata": {
        "id": "llCqCNUTz7wG"
      },
      "source": [
        "* HW-1: Harnessing data to help the heart!\n",
        "  * Instructions\n",
        "  * Learning Goals\n",
        "  * Loading the DataFrame\n",
        "  * Q1: Exploratory Data Analysis (EDA and Data Pre-Preprocessing) **(10 marks)**\n",
        "    * 1.1 Understanding the data\n",
        "    * 1.2 Data Pre-processing\n",
        "      * 1.2.1 Split the data\n",
        "      * 1.2.2 Combine the X_train and y_train into one dataframe\n",
        "    * 1.3 Exploratory Data Analysis \n",
        "      * 1.3.1 Show the target distribution? - Number of people with no Heart Disease and Number of people with Heart Disease\n",
        "      * 1.3.2 How is age distributed? What is the most common age to get a heart disease? How is gender related to age?\n",
        "      * 1.3.3 Which has the most postive and negative correlation with the target variable?\n",
        "      * 1.3.4 Correlation between Blood Sugar level, Slope type and Thalessemia type with target\n",
        "      * 1.3.5 Plot the histogram for the all variables in train set\n",
        "    * 1.4 Defining Accuracy function\n",
        "  * Q2: Models **(80 marks)**\n",
        "    * 2.1 Baseline model - Logistic Regression \n",
        "    * 2.2 Decision Trees \n",
        "      * 2.2.1 Pruning \n",
        "        * 2.2.1.1 Pruning based on cost complexity parameter\n",
        "        * 2.2.1.2 Pruning based on max depth \n",
        "      * 2.2.2 Comparing Decision Tree Models \n",
        "    * 2.3 Bagging Tree Model \n",
        "    * 2.4 Random Forest \n",
        "      * 2.4.1 Permutance Importance \n",
        "      * 2.4.2 Out of Bag Score \n",
        "    * 2.5 Boosting \n",
        "    * 2.6 XGBoost \n",
        "  * Q3: Comparing the Models**(10 marks)**\n",
        "  * Bonus Question **(20 marks)**"
      ]
    },
    {
      "cell_type": "markdown",
      "metadata": {
        "id": "VxkV2910pFEw"
      },
      "source": [
        "## Instructions"
      ]
    },
    {
      "cell_type": "markdown",
      "metadata": {
        "id": "vhwik43rpHj_"
      },
      "source": [
        "- This homework should be submitted in pairs.\n",
        "\n",
        "- Ensure you and your partner together have submitted the homework only once. Multiple submissions of the same work will be penalised and will cost you 2 points.\n",
        "\n",
        "- Please restart the kernel and run the entire notebook again before you submit.\n",
        "\n",
        "- Running cells out of order is a common pitfall in Notebooks. To make sure your code works restart the kernel and run the whole notebook again before you submit. \n",
        "\n",
        "- To work on the homework, you will first need to fork the repository into your GitHub account and clone it to work on it on your local computer. To submit your homework, push your homework into the same GitHub and upload the link on edStem.\n",
        "\n",
        "- Submit the homework well before the given deadline. Submissions after the deadline will not be graded.\n",
        "\n",
        "- We have tried to include all the libraries you may need to do the assignment in the imports statement at the top of this notebook. We strongly suggest that you use those and not others as we may not be familiar with them.\n",
        "\n",
        "- Comment your code well. This would help the graders in case there is any issue with the notebook while running. It is important to remember that the graders will not troubleshoot your code. \n",
        "\n",
        "- Please use .head() when viewing data. Do not submit a notebook that is **excessively long**. \n",
        "\n",
        "- In questions that require code to answer, such as \"calculate the $R^2$\", do not just output the value from a cell. Write a `print()` function that includes a reference to the calculated value, **not hardcoded**. For example: \n",
        "```\n",
        "print(f'The R^2 is {R:.4f}')\n",
        "```\n",
        "- Your plots should include clear labels for the $x$ and $y$ axes as well as a descriptive title (\"MSE plot\" is not a descriptive title; \"95 % confidence interval of coefficients of polynomial degree 5\" is).\n",
        "\n",
        "- **Ensure you make appropriate plots for all the questions it is applicable to, regardless of it being explicitly asked for.**\n",
        "\n",
        "<hr style=\"height:2pt\">"
      ]
    },
    {
      "cell_type": "markdown",
      "metadata": {
        "id": "X0xOsPAh0NI7"
      },
      "source": [
        "## Learning Goals"
      ]
    },
    {
      "cell_type": "markdown",
      "metadata": {
        "id": "lTWGfd3i0QI6"
      },
      "source": [
        "We will look here into the practicalities of fitting classification trees, random forests, and boosted trees. These involve out-of-bound estimates and cross-validation, and how you might want to deal with hyperparameters in these models. \n",
        "\n",
        "The homework is divided into four main parts:\n",
        "1. Exploratory Data Analysis on the dataset and data-preprocessing\n",
        "2. Developing Baseline model using Logistic Regression\n",
        "3. Working with different tree models\n",
        "4. Comparing the models to check which performed better"
      ]
    },
    {
      "cell_type": "code",
      "metadata": {
        "id": "2dXXAM_r03B_"
      },
      "source": [
        "#importing libraries\n",
        "import numpy as np\n",
        "import pandas as pd\n",
        "import matplotlib.pyplot as plt\n",
        "import seaborn as sns\n",
        "%matplotlib inline\n",
        "from sklearn.model_selection import train_test_split\n",
        "from sklearn.preprocessing import StandardScaler\n",
        "from sklearn.tree import DecisionTreeClassifier\n",
        "from sklearn.ensemble import RandomForestClassifier\n",
        "from sklearn.metrics import accuracy_score\n",
        "from sklearn.pipeline import Pipeline\n",
        "from sklearn.model_selection import GridSearchCV\n",
        "from sklearn.ensemble import BaggingClassifier, AdaBoostClassifier\n",
        "from matplotlib import colors\n",
        "from sklearn.model_selection import cross_val_score \n",
        "from sklearn.metrics import confusion_matrix \n",
        "from sklearn.metrics import plot_confusion_matrix\n",
        "from sklearn.linear_model import LogisticRegression\n",
        "from sklearn import tree\n",
        "from sklearn.inspection import permutation_importance\n",
        "from sklearn.model_selection import RandomizedSearchCV"
      ],
      "execution_count": 1,
      "outputs": []
    },
    {
      "cell_type": "markdown",
      "metadata": {
        "id": "K8Bnn7qe1ESn"
      },
      "source": [
        "## Load the dataframe"
      ]
    },
    {
      "cell_type": "code",
      "metadata": {
        "id": "tHb-FlYv1IVI",
        "colab": {
          "base_uri": "https://localhost:8080/",
          "height": 195
        },
        "outputId": "0d573902-e338-4166-d6b5-feed54c12ae3"
      },
      "source": [
        "#import the dataset\n",
        "df = pd.read_csv('heart_data.csv') \n",
        "df.head()"
      ],
      "execution_count": 3,
      "outputs": [
        {
          "output_type": "execute_result",
          "data": {
            "text/html": [
              "<div>\n",
              "<style scoped>\n",
              "    .dataframe tbody tr th:only-of-type {\n",
              "        vertical-align: middle;\n",
              "    }\n",
              "\n",
              "    .dataframe tbody tr th {\n",
              "        vertical-align: top;\n",
              "    }\n",
              "\n",
              "    .dataframe thead th {\n",
              "        text-align: right;\n",
              "    }\n",
              "</style>\n",
              "<table border=\"1\" class=\"dataframe\">\n",
              "  <thead>\n",
              "    <tr style=\"text-align: right;\">\n",
              "      <th></th>\n",
              "      <th>age</th>\n",
              "      <th>sex</th>\n",
              "      <th>cp</th>\n",
              "      <th>trestbps</th>\n",
              "      <th>chol</th>\n",
              "      <th>fbs</th>\n",
              "      <th>restecg</th>\n",
              "      <th>thalach</th>\n",
              "      <th>exang</th>\n",
              "      <th>oldpeak</th>\n",
              "      <th>slope</th>\n",
              "      <th>ca</th>\n",
              "      <th>thal</th>\n",
              "      <th>target</th>\n",
              "    </tr>\n",
              "  </thead>\n",
              "  <tbody>\n",
              "    <tr>\n",
              "      <th>0</th>\n",
              "      <td>63</td>\n",
              "      <td>1</td>\n",
              "      <td>3</td>\n",
              "      <td>145</td>\n",
              "      <td>233</td>\n",
              "      <td>1</td>\n",
              "      <td>0</td>\n",
              "      <td>150</td>\n",
              "      <td>0</td>\n",
              "      <td>2.3</td>\n",
              "      <td>0</td>\n",
              "      <td>0</td>\n",
              "      <td>1</td>\n",
              "      <td>1</td>\n",
              "    </tr>\n",
              "    <tr>\n",
              "      <th>1</th>\n",
              "      <td>37</td>\n",
              "      <td>1</td>\n",
              "      <td>2</td>\n",
              "      <td>130</td>\n",
              "      <td>250</td>\n",
              "      <td>0</td>\n",
              "      <td>1</td>\n",
              "      <td>187</td>\n",
              "      <td>0</td>\n",
              "      <td>3.5</td>\n",
              "      <td>0</td>\n",
              "      <td>0</td>\n",
              "      <td>2</td>\n",
              "      <td>1</td>\n",
              "    </tr>\n",
              "    <tr>\n",
              "      <th>2</th>\n",
              "      <td>41</td>\n",
              "      <td>0</td>\n",
              "      <td>1</td>\n",
              "      <td>130</td>\n",
              "      <td>204</td>\n",
              "      <td>0</td>\n",
              "      <td>0</td>\n",
              "      <td>172</td>\n",
              "      <td>0</td>\n",
              "      <td>1.4</td>\n",
              "      <td>2</td>\n",
              "      <td>0</td>\n",
              "      <td>2</td>\n",
              "      <td>1</td>\n",
              "    </tr>\n",
              "    <tr>\n",
              "      <th>3</th>\n",
              "      <td>56</td>\n",
              "      <td>1</td>\n",
              "      <td>1</td>\n",
              "      <td>120</td>\n",
              "      <td>236</td>\n",
              "      <td>0</td>\n",
              "      <td>1</td>\n",
              "      <td>178</td>\n",
              "      <td>0</td>\n",
              "      <td>0.8</td>\n",
              "      <td>2</td>\n",
              "      <td>0</td>\n",
              "      <td>2</td>\n",
              "      <td>1</td>\n",
              "    </tr>\n",
              "    <tr>\n",
              "      <th>4</th>\n",
              "      <td>57</td>\n",
              "      <td>0</td>\n",
              "      <td>0</td>\n",
              "      <td>120</td>\n",
              "      <td>354</td>\n",
              "      <td>0</td>\n",
              "      <td>1</td>\n",
              "      <td>163</td>\n",
              "      <td>1</td>\n",
              "      <td>0.6</td>\n",
              "      <td>2</td>\n",
              "      <td>0</td>\n",
              "      <td>2</td>\n",
              "      <td>1</td>\n",
              "    </tr>\n",
              "  </tbody>\n",
              "</table>\n",
              "</div>"
            ],
            "text/plain": [
              "   age  sex  cp  trestbps  chol  fbs  ...  exang  oldpeak  slope  ca  thal  target\n",
              "0   63    1   3       145   233    1  ...      0      2.3      0   0     1       1\n",
              "1   37    1   2       130   250    0  ...      0      3.5      0   0     2       1\n",
              "2   41    0   1       130   204    0  ...      0      1.4      2   0     2       1\n",
              "3   56    1   1       120   236    0  ...      0      0.8      2   0     2       1\n",
              "4   57    0   0       120   354    0  ...      1      0.6      2   0     2       1\n",
              "\n",
              "[5 rows x 14 columns]"
            ]
          },
          "metadata": {
            "tags": []
          },
          "execution_count": 3
        }
      ]
    },
    {
      "cell_type": "markdown",
      "metadata": {
        "id": "VOJ6cAUzzIyX"
      },
      "source": [
        "## Part 1: Exploratory Data Analysis and Data-Preprocessing **(10 marks)**\n",
        "\n"
      ]
    },
    {
      "cell_type": "markdown",
      "metadata": {
        "id": "w37B2HifeZjm"
      },
      "source": [
        "### 1.1 Understanding the data"
      ]
    },
    {
      "cell_type": "markdown",
      "metadata": {
        "id": "E5RWtWp7zXnV"
      },
      "source": [
        "**The data consist 303 individual data with 13 features and output label. Features are as follows**\n",
        "\n",
        "* **Age** : displays the age of the individual.\n",
        "* **Sex** : displays the gender of the individual using the following format:\n",
        "    * 1 = male \n",
        "    * 0 = female\n",
        "* **Chest-pain type (cp)**: displays the type of chest-pain experienced by the individual using the following format : \n",
        "    * 1 = typical angina \n",
        "    * 2 = atypical angina \n",
        "    * 3 = non — anginal pain \n",
        "    * 4 = asymptotic\n",
        "* **Resting Blood Pressure (trestbps)**: displays the resting blood pressure value of an individual in mmHg (unit)\n",
        "* **Serum Cholesterol (chol)**: displays the serum cholesterol in mg/dl (unit)\n",
        "* **Fasting Blood Sugar (fbs)**: compares the fasting blood sugar value of an individual with 120mg/dl. \n",
        "  * If fasting blood sugar > 120mg/dl then : 1 (true) \n",
        "  * If fasting blood sugar < 120mg/dl then : 0 (false)\n",
        "* **Resting ECG (restecg)**: displays resting electrocardiographic results \n",
        "  * 0 = normal\n",
        "  * 1 = having ST-T wave abnormality \n",
        "  * 2 = left ventricular hypertrophy\n",
        "*  **Max heart rate achieved (thalach)**: displays the max heart rate achieved by an individual.\n",
        "* **Exercise induced angina (exang)**: \n",
        "  * 1 = yes \n",
        "  * 0 = no\n",
        "* **ST depression induced by exercise relative to rest (oldpeak)**: displays the value which is integer or float.\n",
        "* **Peak exercise ST segment (slope)**: \n",
        "  * 1 = upsloping \n",
        "  * 2 = flat \n",
        "  * 3 = downsloping\n",
        "* **Number of major vessels (0–3) colored by fluoroscopy (ca)**: displays the value as an integer or float.\n",
        "* **Thal** : displays the thalassemia : \n",
        "  * 1 = normal \n",
        "  * 2 = fixed defect \n",
        "  * 3 = reversible defect\n",
        "* **(Output)Diagnosis of heart disease (target)**: Displays whether the individual is suffering from heart disease or not : \n",
        "  * 0 = absence \n",
        "  * 1 = presence"
      ]
    },
    {
      "cell_type": "code",
      "metadata": {
        "id": "Z8lat3Q40A64",
        "colab": {
          "base_uri": "https://localhost:8080/"
        },
        "outputId": "ead0c171-67f8-45a6-c60a-b33e207ab6d5"
      },
      "source": [
        "#check that dataset datatypes and check nulls \n",
        "df.dtypes"
      ],
      "execution_count": 6,
      "outputs": [
        {
          "output_type": "execute_result",
          "data": {
            "text/plain": [
              "age           int64\n",
              "sex           int64\n",
              "cp            int64\n",
              "trestbps      int64\n",
              "chol          int64\n",
              "fbs           int64\n",
              "restecg       int64\n",
              "thalach       int64\n",
              "exang         int64\n",
              "oldpeak     float64\n",
              "slope         int64\n",
              "ca            int64\n",
              "thal          int64\n",
              "target        int64\n",
              "dtype: object"
            ]
          },
          "metadata": {
            "tags": []
          },
          "execution_count": 6
        }
      ]
    },
    {
      "cell_type": "code",
      "metadata": {
        "id": "mQ1GIl0ZUV30",
        "colab": {
          "base_uri": "https://localhost:8080/"
        },
        "outputId": "556baefd-d05f-4db2-b3ed-d46f777c35f1"
      },
      "source": [
        "df.isna().any()"
      ],
      "execution_count": 7,
      "outputs": [
        {
          "output_type": "execute_result",
          "data": {
            "text/plain": [
              "age         False\n",
              "sex         False\n",
              "cp          False\n",
              "trestbps    False\n",
              "chol        False\n",
              "fbs         False\n",
              "restecg     False\n",
              "thalach     False\n",
              "exang       False\n",
              "oldpeak     False\n",
              "slope       False\n",
              "ca          False\n",
              "thal        False\n",
              "target      False\n",
              "dtype: bool"
            ]
          },
          "metadata": {
            "tags": []
          },
          "execution_count": 7
        }
      ]
    },
    {
      "cell_type": "markdown",
      "metadata": {
        "id": "N_sIHuKbmLfi"
      },
      "source": [
        "### 1.2 Data Preprocessing"
      ]
    },
    {
      "cell_type": "code",
      "metadata": {
        "id": "JLT4c8dCrFGh"
      },
      "source": [
        "#set the random state as 42 throughout the homework\n",
        "rf=42"
      ],
      "execution_count": 8,
      "outputs": []
    },
    {
      "cell_type": "markdown",
      "metadata": {
        "id": "joeUEaVG2F9i"
      },
      "source": [
        "#### 1.2.1 Splitting the data\n",
        "1. First split the data into input and output variables \n",
        "2. Then split the data into train and test, with **0.3 as the test size** and random state is set as rf(as defined previously)."
      ]
    },
    {
      "cell_type": "code",
      "metadata": {
        "id": "iq-rCJg_-1bu"
      },
      "source": [
        "#splitting the target and input variables\n",
        "X = df.drop(\"target\", axis=1)\n",
        "y = df[\"target\"]"
      ],
      "execution_count": 9,
      "outputs": []
    },
    {
      "cell_type": "code",
      "metadata": {
        "id": "2AgDDZTwApSO"
      },
      "source": [
        "#train test split - split with 0.3 as test size and random state is rf\n",
        "X_train, X_test, y_train, y_test = train_test_split(X, y, test_size=0.3, random_state=rf)"
      ],
      "execution_count": 10,
      "outputs": []
    },
    {
      "cell_type": "markdown",
      "metadata": {
        "id": "wT3X6jFret28"
      },
      "source": [
        "#### 1.2.2 For us to do EDA on the train set, we will need to combine the X_train and y_train into one dataframe"
      ]
    },
    {
      "cell_type": "code",
      "metadata": {
        "id": "Lp_lImBbMhsB",
        "colab": {
          "base_uri": "https://localhost:8080/",
          "height": 195
        },
        "outputId": "ab05c9c4-ff8b-4438-80b1-2c3538394028"
      },
      "source": [
        "#combining X_train and y_train into a single dataframe\n",
        "train_df = pd.concat([X_train, y_train], axis=1)\n",
        "train_df.head()"
      ],
      "execution_count": 11,
      "outputs": [
        {
          "output_type": "execute_result",
          "data": {
            "text/html": [
              "<div>\n",
              "<style scoped>\n",
              "    .dataframe tbody tr th:only-of-type {\n",
              "        vertical-align: middle;\n",
              "    }\n",
              "\n",
              "    .dataframe tbody tr th {\n",
              "        vertical-align: top;\n",
              "    }\n",
              "\n",
              "    .dataframe thead th {\n",
              "        text-align: right;\n",
              "    }\n",
              "</style>\n",
              "<table border=\"1\" class=\"dataframe\">\n",
              "  <thead>\n",
              "    <tr style=\"text-align: right;\">\n",
              "      <th></th>\n",
              "      <th>age</th>\n",
              "      <th>sex</th>\n",
              "      <th>cp</th>\n",
              "      <th>trestbps</th>\n",
              "      <th>chol</th>\n",
              "      <th>fbs</th>\n",
              "      <th>restecg</th>\n",
              "      <th>thalach</th>\n",
              "      <th>exang</th>\n",
              "      <th>oldpeak</th>\n",
              "      <th>slope</th>\n",
              "      <th>ca</th>\n",
              "      <th>thal</th>\n",
              "      <th>target</th>\n",
              "    </tr>\n",
              "  </thead>\n",
              "  <tbody>\n",
              "    <tr>\n",
              "      <th>124</th>\n",
              "      <td>39</td>\n",
              "      <td>0</td>\n",
              "      <td>2</td>\n",
              "      <td>94</td>\n",
              "      <td>199</td>\n",
              "      <td>0</td>\n",
              "      <td>1</td>\n",
              "      <td>179</td>\n",
              "      <td>0</td>\n",
              "      <td>0.0</td>\n",
              "      <td>2</td>\n",
              "      <td>0</td>\n",
              "      <td>2</td>\n",
              "      <td>1</td>\n",
              "    </tr>\n",
              "    <tr>\n",
              "      <th>72</th>\n",
              "      <td>29</td>\n",
              "      <td>1</td>\n",
              "      <td>1</td>\n",
              "      <td>130</td>\n",
              "      <td>204</td>\n",
              "      <td>0</td>\n",
              "      <td>0</td>\n",
              "      <td>202</td>\n",
              "      <td>0</td>\n",
              "      <td>0.0</td>\n",
              "      <td>2</td>\n",
              "      <td>0</td>\n",
              "      <td>2</td>\n",
              "      <td>1</td>\n",
              "    </tr>\n",
              "    <tr>\n",
              "      <th>15</th>\n",
              "      <td>50</td>\n",
              "      <td>0</td>\n",
              "      <td>2</td>\n",
              "      <td>120</td>\n",
              "      <td>219</td>\n",
              "      <td>0</td>\n",
              "      <td>1</td>\n",
              "      <td>158</td>\n",
              "      <td>0</td>\n",
              "      <td>1.6</td>\n",
              "      <td>1</td>\n",
              "      <td>0</td>\n",
              "      <td>2</td>\n",
              "      <td>1</td>\n",
              "    </tr>\n",
              "    <tr>\n",
              "      <th>10</th>\n",
              "      <td>54</td>\n",
              "      <td>1</td>\n",
              "      <td>0</td>\n",
              "      <td>140</td>\n",
              "      <td>239</td>\n",
              "      <td>0</td>\n",
              "      <td>1</td>\n",
              "      <td>160</td>\n",
              "      <td>0</td>\n",
              "      <td>1.2</td>\n",
              "      <td>2</td>\n",
              "      <td>0</td>\n",
              "      <td>2</td>\n",
              "      <td>1</td>\n",
              "    </tr>\n",
              "    <tr>\n",
              "      <th>163</th>\n",
              "      <td>38</td>\n",
              "      <td>1</td>\n",
              "      <td>2</td>\n",
              "      <td>138</td>\n",
              "      <td>175</td>\n",
              "      <td>0</td>\n",
              "      <td>1</td>\n",
              "      <td>173</td>\n",
              "      <td>0</td>\n",
              "      <td>0.0</td>\n",
              "      <td>2</td>\n",
              "      <td>4</td>\n",
              "      <td>2</td>\n",
              "      <td>1</td>\n",
              "    </tr>\n",
              "  </tbody>\n",
              "</table>\n",
              "</div>"
            ],
            "text/plain": [
              "     age  sex  cp  trestbps  chol  fbs  ...  exang  oldpeak  slope  ca  thal  target\n",
              "124   39    0   2        94   199    0  ...      0      0.0      2   0     2       1\n",
              "72    29    1   1       130   204    0  ...      0      0.0      2   0     2       1\n",
              "15    50    0   2       120   219    0  ...      0      1.6      1   0     2       1\n",
              "10    54    1   0       140   239    0  ...      0      1.2      2   0     2       1\n",
              "163   38    1   2       138   175    0  ...      0      0.0      2   4     2       1\n",
              "\n",
              "[5 rows x 14 columns]"
            ]
          },
          "metadata": {
            "tags": []
          },
          "execution_count": 11
        }
      ]
    },
    {
      "cell_type": "markdown",
      "metadata": {
        "id": "6QZV2RGN6ZB8"
      },
      "source": [
        "### 1.3 Exploratory Data Analysis\n"
      ]
    },
    {
      "cell_type": "markdown",
      "metadata": {
        "id": "fsgvjt95582f"
      },
      "source": [
        "**The most efficient way to interpret data and to find relations between the different variables is by Visualisation.**\n",
        " \n",
        "**Hence answer the following questions using appropriate visualisation tool(plotting).** "
      ]
    },
    {
      "cell_type": "markdown",
      "metadata": {
        "id": "TfGkTclT6DFe"
      },
      "source": [
        "#### 1.3.1 Show the target distribution? - Number of people with no Heart Disease and Number of people with Heart Disease"
      ]
    },
    {
      "cell_type": "code",
      "metadata": {
        "id": "rXy1d5K7501d",
        "colab": {
          "base_uri": "https://localhost:8080/",
          "height": 322
        },
        "outputId": "4f8c4d57-ebdf-47e4-dceb-ee9674746b89"
      },
      "source": [
        "plt.figure(figsize=(10,5))\n",
        "sns.barplot(y_train.unique(), y_train.value_counts())\n",
        "plt.xlabel('Heart Disease (Yes = 1 / No = 0)')\n",
        "plt.ylabel('Count')\n",
        "plt.title(\"Number of people with no Heart Disease and Number of people with Heart Disease\")\n",
        "plt.show();"
      ],
      "execution_count": 12,
      "outputs": [
        {
          "output_type": "stream",
          "text": [
            "/usr/local/lib/python3.7/dist-packages/seaborn/_decorators.py:43: FutureWarning: Pass the following variables as keyword args: x, y. From version 0.12, the only valid positional argument will be `data`, and passing other arguments without an explicit keyword will result in an error or misinterpretation.\n",
            "  FutureWarning\n"
          ],
          "name": "stderr"
        },
        {
          "output_type": "display_data",
          "data": {
            "image/png": "[encoded data removed]",
            "text/plain": [
              "<Figure size 432x288 with 1 Axes>"
            ]
          },
          "metadata": {
            "tags": [],
            "needs_background": "light"
          }
        }
      ]
    },
    {
      "cell_type": "markdown",
      "metadata": {
        "id": "jurQ3rp1PeQG"
      },
      "source": [
        "The number of people with heart disease is more."
      ]
    },
    {
      "cell_type": "markdown",
      "metadata": {
        "id": "tn-pKWEP6R5U"
      },
      "source": [
        "#### 1.3.2 How is age distributed? What is the most common age to get a heart disease? How is gender related to age?"
      ]
    },
    {
      "cell_type": "code",
      "metadata": {
        "id": "kvRae2fa6hXX",
        "colab": {
          "base_uri": "https://localhost:8080/",
          "height": 333
        },
        "outputId": "3bdc8615-4e7b-4610-d47b-60ad8ad395d3"
      },
      "source": [
        "#checking the distribution of age\n",
        "plt.figure(figsize=(10,5))\n",
        "sns.distplot(train_df['age'], kde = False)\n",
        "plt.title(\"Age distribution\")\n",
        "plt.show();"
      ],
      "execution_count": 13,
      "outputs": [
        {
          "output_type": "stream",
          "text": [
            "/usr/local/lib/python3.7/dist-packages/seaborn/distributions.py:2557: FutureWarning: `distplot` is a deprecated function and will be removed in a future version. Please adapt your code to use either `displot` (a figure-level function with similar flexibility) or `histplot` (an axes-level function for histograms).\n",
            "  warnings.warn(msg, FutureWarning)\n"
          ],
          "name": "stderr"
        },
        {
          "output_type": "display_data",
          "data": {
            "image/png": "[encoded data removed]",
            "text/plain": [
              "<Figure size 432x288 with 1 Axes>"
            ]
          },
          "metadata": {
            "tags": [],
            "needs_background": "light"
          }
        }
      ]
    },
    {
      "cell_type": "code",
      "metadata": {
        "id": "IRd5AfFQc45y",
        "colab": {
          "base_uri": "https://localhost:8080/",
          "height": 350
        },
        "outputId": "e457f785-1c18-40ad-e7e3-fbe914576db9"
      },
      "source": [
        "#plot to check variation of age wrt to target \n",
        "plt.figure(figsize=(10,5))\n",
        "sns.distplot(train_df[train_df['target']==1]['age'], kde = False)\n",
        "plt.title(\"Age distribution of people with a heart disease\")\n",
        "plt.show()"
      ],
      "execution_count": 14,
      "outputs": [
        {
          "output_type": "stream",
          "text": [
            "/usr/local/lib/python3.7/dist-packages/seaborn/distributions.py:2557: FutureWarning: `distplot` is a deprecated function and will be removed in a future version. Please adapt your code to use either `displot` (a figure-level function with similar flexibility) or `histplot` (an axes-level function for histograms).\n",
            "  warnings.warn(msg, FutureWarning)\n"
          ],
          "name": "stderr"
        },
        {
          "output_type": "execute_result",
          "data": {
            "text/plain": [
              "<matplotlib.axes._subplots.AxesSubplot at 0x7fc1150c7210>"
            ]
          },
          "metadata": {
            "tags": []
          },
          "execution_count": 14
        },
        {
          "output_type": "display_data",
          "data": {
            "image/png": "[encoded data removed]",
            "text/plain": [
              "<Figure size 432x288 with 1 Axes>"
            ]
          },
          "metadata": {
            "tags": [],
            "needs_background": "light"
          }
        }
      ]
    },
    {
      "cell_type": "code",
      "metadata": {
        "id": "ycYIfErPVttN",
        "colab": {
          "base_uri": "https://localhost:8080/"
        },
        "outputId": "49995c58-50d3-4eba-c452-1e4ad8a77a54"
      },
      "source": [
        "#Getting the count of people with and without heart disease grouped by age\n",
        "temp = train_df.groupby(\"age\")\n",
        "age=[]\n",
        "heart_disease_count=[]\n",
        "no_heart_disease_count=[]\n",
        "for i,j in temp:\n",
        "    age.append(i)\n",
        "    heart_disease_count.append(np.sum(j['target']))\n",
        "    no_heart_disease_count.append(len(j['target'])-np.sum(j['target']))\n",
        "\n",
        "index=heart_disease_count.index(max(heart_disease_count))\n",
        "print(\"Age at which most people are prone to have heart diseases:\",age[index])"
      ],
      "execution_count": 15,
      "outputs": [
        {
          "output_type": "stream",
          "text": [
            "Age at which most people are prone to have heart diseases: 54\n"
          ],
          "name": "stdout"
        }
      ]
    },
    {
      "cell_type": "code",
      "metadata": {
        "id": "DV45RQg8hy5o",
        "colab": {
          "base_uri": "https://localhost:8080/",
          "height": 369
        },
        "outputId": "013fd837-1ae2-45b4-888d-f89f8a7cb6d5"
      },
      "source": [
        "#age vs gender\n",
        "# Separating patients based on heart disease\n",
        "heart_disease= train_df[train_df.target==1]\n",
        "no_heart_disease= train_df[train_df.target==0]\n",
        "fig=plt.figure(figsize=(15,5))\n",
        "ax=fig.add_subplot(1,2,1)\n",
        "sns.swarmplot(x=heart_disease.sex,y=heart_disease.age,ax=ax,alpha=0.3,color='red')\n",
        "ax.set_title(\"Gender vs age for people with heart disease\",fontsize=15)\n",
        "ax.set_xlabel(\"Age\",fontsize=12)\n",
        "ax.set_ylabel(\"Gender\",fontsize=12)\n",
        "\n",
        "\n",
        "ax=fig.add_subplot(1,2,2)\n",
        "sns.swarmplot(x=no_heart_disease.sex,y=no_heart_disease.age,ax=ax,alpha=0.3,color='blue')\n",
        "ax.set_title(\"Gender vs age for people without heart disease\",fontsize=15)\n",
        "ax.set_xlabel(\"Age\",fontsize=12)\n",
        "ax.set_ylabel(\"Gender\",fontsize=12)\n",
        "fig.tight_layout();"
      ],
      "execution_count": 16,
      "outputs": [
        {
          "output_type": "display_data",
          "data": {
            "image/png": "[encoded data removed]",
            "text/plain": [
              "<Figure size 1080x360 with 2 Axes>"
            ]
          },
          "metadata": {
            "tags": [],
            "needs_background": "light"
          }
        }
      ]
    },
    {
      "cell_type": "markdown",
      "metadata": {
        "id": "4f1gfrz9hCTQ"
      },
      "source": [
        "It looks like heart diseases are more frequent in women as compared to men. Looking at the total number of women and men, a larger percentage of women seem to have heart disease as compared to men.\n",
        "For women, heart diseases are more frequent between the age of 40-70 whereas for men, it is more frequent between the age of 40-60."
      ]
    },
    {
      "cell_type": "markdown",
      "metadata": {
        "id": "baTxzMaRjP71"
      },
      "source": [
        "#### 1.3.3 Which has the most postive and negative correlation with the target variable?\n"
      ]
    },
    {
      "cell_type": "code",
      "metadata": {
        "id": "TzdUKArvjGV4",
        "colab": {
          "base_uri": "https://localhost:8080/"
        },
        "outputId": "e6148ef0-09f1-450e-9785-ae5ef75bb98b"
      },
      "source": [
        "train_df.corr()['target']"
      ],
      "execution_count": 17,
      "outputs": [
        {
          "output_type": "execute_result",
          "data": {
            "text/plain": [
              "age        -0.224143\n",
              "sex        -0.298758\n",
              "cp          0.433499\n",
              "trestbps   -0.053108\n",
              "chol       -0.053322\n",
              "fbs         0.038448\n",
              "restecg     0.083150\n",
              "thalach     0.403860\n",
              "exang      -0.464248\n",
              "oldpeak    -0.433180\n",
              "slope       0.344297\n",
              "ca         -0.426944\n",
              "thal       -0.390069\n",
              "target      1.000000\n",
              "Name: target, dtype: float64"
            ]
          },
          "metadata": {
            "tags": []
          },
          "execution_count": 17
        }
      ]
    },
    {
      "cell_type": "code",
      "metadata": {
        "id": "o7cZb_pxXrxt",
        "colab": {
          "base_uri": "https://localhost:8080/",
          "height": 300
        },
        "outputId": "5da9f56b-5a81-45f0-9849-809275cdcc44"
      },
      "source": [
        "plt.figure(figsize=(8,8))\n",
        "sns.heatmap(train_df.corr(), annot= True);\n"
      ],
      "execution_count": 18,
      "outputs": [
        {
          "output_type": "display_data",
          "data": {
            "image/png": "[encoded data removed]",
            "text/plain": [
              "<Figure size 432x288 with 2 Axes>"
            ]
          },
          "metadata": {
            "tags": [],
            "needs_background": "light"
          }
        }
      ]
    },
    {
      "cell_type": "markdown",
      "metadata": {
        "id": "mYTJgGjrjV8u"
      },
      "source": [
        "- Chest pain (cp) has the most positive correlation with our target variable\n",
        "- Exercise induced angina (exang) has the most negative correlation with the target variable"
      ]
    },
    {
      "cell_type": "markdown",
      "metadata": {
        "id": "fPysFunxkCe6"
      },
      "source": [
        "#### 1.3.4 Correlation between Blood Sugar level, Slope type and Thalessemia type with target"
      ]
    },
    {
      "cell_type": "code",
      "metadata": {
        "id": "6bM8hzi3kQ5s"
      },
      "source": [
        "sns.pairplot(df_train[['target','slope','thal','fbs']],kind='kde');"
      ],
      "execution_count": 19,
      "outputs": []
    },
    {
      "cell_type": "code",
      "metadata": {
        "id": "4yW1v14KRyXI"
      },
      "source": [
        "print(\"The Pearson's correlation for Blood Sugar level with target: \",df_train.corr()['target']['fbs'])\n",
        "print(\"The Pearson's correlation for Slope type with target: \",df_train.corr()['target']['slope'])\n",
        "print(\"The Pearson's correlation for Thalessemia type with target: \",df_train.corr()['target']['thal'])"
      ],
      "execution_count": null,
      "outputs": []
    },
    {
      "cell_type": "markdown",
      "metadata": {
        "id": "8xzinIUFkpUQ"
      },
      "source": [
        "Thalessemia shows the highest correlation with heart disease and it has a negative correlation index."
      ]
    },
    {
      "cell_type": "markdown",
      "metadata": {
        "id": "hplCr5PRnD9u"
      },
      "source": [
        "#### 1.3.5 Plot the histogram for the all variables in train set"
      ]
    },
    {
      "cell_type": "code",
      "metadata": {
        "id": "TPOIPNqpnacA"
      },
      "source": [
        "#plot histogram for all variables\n",
        "fig=plt.figure(figsize=(25,15))\n",
        "for count,col in enumerate(df_train.columns):\n",
        "    ax=fig.add_subplot(4,4,count+1)\n",
        "    ax.hist(df_train[col])\n",
        "    ax.set_xlabel(col,fontsize=18)\n",
        "    ax.set_ylabel(\"Count\",fontsize=18)\n",
        "fig.tight_layout()"
      ],
      "execution_count": 20,
      "outputs": []
    },
    {
      "cell_type": "markdown",
      "metadata": {
        "id": "4VfA1kjlmhhD"
      },
      "source": [
        "##### Based on the histogram plotted above, it looks like we need to standardise the data, right? But tree models do not need standardising, explain why?"
      ]
    },
    {
      "cell_type": "markdown",
      "metadata": {
        "id": "hfEyENobKWWU"
      },
      "source": [
        "Tree models work by creating decision boundaries on each feature individually by finding the best split based on the gini index. Thus, it does not need a standardization across all features."
      ]
    },
    {
      "cell_type": "markdown",
      "metadata": {
        "id": "TPNUF_RFBDK3"
      },
      "source": [
        "### 1.4 Defining function to calculate accuracy"
      ]
    },
    {
      "cell_type": "markdown",
      "metadata": {
        "id": "-suY4EaMKcmH"
      },
      "source": [
        "We will define a function to calculate the model accuracy using `accuracy_score`"
      ]
    },
    {
      "cell_type": "code",
      "metadata": {
        "id": "Rh_M6gLqAx3h"
      },
      "source": [
        "#Function to get test accuracy\n",
        "def accuracy(X, y, model):\n",
        "    #X is the testing data to predict on, y is the actual data\n",
        "    #your code here\n",
        "    return accuracy_score(y, model.predict(X))"
      ],
      "execution_count": 21,
      "outputs": []
    },
    {
      "cell_type": "markdown",
      "metadata": {
        "id": "VHgF_9wLLvEs"
      },
      "source": [
        "## Part 2: Models! **(80 marks)**\n"
      ]
    },
    {
      "cell_type": "markdown",
      "metadata": {
        "id": "TcrqR8XgKx1u"
      },
      "source": [
        "**Now that we have completed understanding the data and pre-processing the data, lets move on to the next step of building models on the data**"
      ]
    },
    {
      "cell_type": "markdown",
      "metadata": {
        "id": "LJay44vtciQZ"
      },
      "source": [
        "We will use two metrics to evaluate our model.\n",
        "1. The accuracy function we defined - this will help us understand the training and testing accuracy of the model\n",
        "2. Confusion matrix to evaluate the model\n",
        "\n",
        "Remember the basics of Confusion Matrix: \n",
        "\n",
        "![Cm.jpeg](https://drive.google.com/uc?export=view&id=14q4KVVqWiP6C0dve4745UX7LN3vKl0i6)\n",
        "\n",
        "\n",
        "This is how sklearn plots it confusion matrix, hence remember this in each step where you are required to do analysis.\n"
      ]
    },
    {
      "cell_type": "markdown",
      "metadata": {
        "id": "UQPS4R_XFgmj"
      },
      "source": [
        "### 2.1 Baseline Model - Logistic Regression **(5 marks)**"
      ]
    },
    {
      "cell_type": "markdown",
      "metadata": {
        "id": "JTF9FKnsXn6r"
      },
      "source": [
        "We will start with the most basic classification algorithm - **Logistic Regression**. \n",
        "\n",
        "1. We will create a pipeline - where we will pass the `('standardizer', StandardScaler()` and sklearn's logistic regression with random_state as rf(42). Lets call this model **LR_model**\n",
        "2. Create the parameter_grid to be passed to the model - this can be anything, you are cross validating to get the best score for your model, hence chose the parameters you want to define. \n",
        "3. Pass the pipeline and the parameter_grid to the GridSearchCV, with `cv =10 ` and `scoring = \"accuracy\"`\n",
        "4. Fit the model\n",
        "5. Print the performance of the model(training and testing accuracy) using the accuracy function defined by you. \n",
        "7. Print out the best params of the model\n",
        "6. Plot the confusion matrix to evaluate the model. \n",
        "4. Based on the confusion matrix and the accuracy - **draw conclusions about the model**"
      ]
    },
    {
      "cell_type": "code",
      "metadata": {
        "id": "qivmsgNUSbLB",
        "colab": {
          "base_uri": "https://localhost:8080/"
        },
        "outputId": "91bfe27c-435a-4c7d-f6ab-5ecc08d56ffb"
      },
      "source": [
        "#build a pipeline\n",
        "lr_model = LogisticRegression(random_state=rf)\n",
        "pipe = Pipeline([('standardizer', StandardScaler()), ('lor', lr_model)])\n",
        "pipe.fit(X_train, y_train)"
      ],
      "execution_count": 22,
      "outputs": [
        {
          "output_type": "execute_result",
          "data": {
            "text/plain": [
              "Pipeline(memory=None,\n",
              "         steps=[('scaler',\n",
              "                 StandardScaler(copy=True, with_mean=True, with_std=True)),\n",
              "                ('lor',\n",
              "                 LogisticRegression(C=1.0, class_weight=None, dual=False,\n",
              "                                    fit_intercept=True, intercept_scaling=1,\n",
              "                                    l1_ratio=None, max_iter=100,\n",
              "                                    multi_class='auto', n_jobs=None,\n",
              "                                    penalty='l2', random_state=42,\n",
              "                                    solver='lbfgs', tol=0.0001, verbose=0,\n",
              "                                    warm_start=False))],\n",
              "         verbose=False)"
            ]
          },
          "metadata": {
            "tags": []
          },
          "execution_count": 22
        }
      ]
    },
    {
      "cell_type": "code",
      "metadata": {
        "id": "owdXuIqv3OpF"
      },
      "source": [
        "#hyper-parameters tuning \n",
        "c_values = {\"lor__C\": [0.0001, 0.001, 0.01, 0.1, 1, 10, 100, 1000, 10000]}"
      ],
      "execution_count": 23,
      "outputs": []
    },
    {
      "cell_type": "code",
      "metadata": {
        "id": "QvbpCTMrS2Ta",
        "colab": {
          "base_uri": "https://localhost:8080/"
        },
        "outputId": "31836792-cdc8-40a3-c4ab-1954fd631e6e"
      },
      "source": [
        "#fit the model\n",
        "gs = GridSearchCV(pipe, param_grid = c_values, cv = 10, scoring = 'accuracy')\n",
        "gs.fit(X_train, y_train)"
      ],
      "execution_count": 24,
      "outputs": [
        {
          "output_type": "execute_result",
          "data": {
            "text/plain": [
              "GridSearchCV(cv=10, error_score=nan,\n",
              "             estimator=Pipeline(memory=None,\n",
              "                                steps=[('scaler',\n",
              "                                        StandardScaler(copy=True,\n",
              "                                                       with_mean=True,\n",
              "                                                       with_std=True)),\n",
              "                                       ('lor',\n",
              "                                        LogisticRegression(C=1.0,\n",
              "                                                           class_weight=None,\n",
              "                                                           dual=False,\n",
              "                                                           fit_intercept=True,\n",
              "                                                           intercept_scaling=1,\n",
              "                                                           l1_ratio=None,\n",
              "                                                           max_iter=100,\n",
              "                                                           multi_class='auto',\n",
              "                                                           n_jobs=None,\n",
              "                                                           penalty='l2',\n",
              "                                                           random_state=42,\n",
              "                                                           solver='lbfgs',\n",
              "                                                           tol=0.0001,\n",
              "                                                           verbose=0,\n",
              "                                                           warm_start=False))],\n",
              "                                verbose=False),\n",
              "             iid='deprecated', n_jobs=None,\n",
              "             param_grid={'lor__C': [0.0001, 0.001, 0.01, 0.1, 1, 10, 100, 1000,\n",
              "                                    10000]},\n",
              "             pre_dispatch='2*n_jobs', refit=True, return_train_score=False,\n",
              "             scoring='accuracy', verbose=0)"
            ]
          },
          "metadata": {
            "tags": []
          },
          "execution_count": 24
        }
      ]
    },
    {
      "cell_type": "code",
      "metadata": {
        "id": "5ynDqJoCB02G",
        "colab": {
          "base_uri": "https://localhost:8080/"
        },
        "outputId": "0c88f23a-5b6a-47e7-9f57-8dd31137fb18"
      },
      "source": [
        "#check the performance- accuracy\n",
        "print(f\"The training accuracy of the Logistic Regression model is {accuracy(X_train, y_train, gs.best_estimator_)}\")\n",
        "print(f\"The testing accuracy of the Logistic Regression model is {accuracy(X_test, y_test, gs.best_estimator_)}\")"
      ],
      "execution_count": 25,
      "outputs": [
        {
          "output_type": "stream",
          "text": [
            "The training accuracy of the Logistic Regression model is 0.8726415094339622\n",
            "The testing accuracy of the Logistic Regression model is 0.8131868131868132\n"
          ],
          "name": "stdout"
        }
      ]
    },
    {
      "cell_type": "code",
      "metadata": {
        "id": "Bo60EPBW4PdL",
        "colab": {
          "base_uri": "https://localhost:8080/"
        },
        "outputId": "73f7e350-0c19-4a79-ce40-ba2258ab8fba"
      },
      "source": [
        "#get the best parameters\n",
        "bs_gs = gs.best_estimator_\n",
        "best_c = gs.best_params_[\"lor__C\"]\n",
        "print(f\"The best c-value for the logistic regression is {best_c}\")"
      ],
      "execution_count": 26,
      "outputs": [
        {
          "output_type": "stream",
          "text": [
            "The best c-value for the logistic regression is 1\n"
          ],
          "name": "stdout"
        }
      ]
    },
    {
      "cell_type": "code",
      "metadata": {
        "id": "c95cy0yQLVHT",
        "colab": {
          "base_uri": "https://localhost:8080/"
        },
        "outputId": "1e323705-2c59-4be5-9aeb-32d3f852a37c"
      },
      "source": [
        "#plot the confusion matrix\n",
        "confusion_matrix(y_test, gs.best_estimator_.predict(X_test))"
      ],
      "execution_count": 27,
      "outputs": [
        {
          "output_type": "execute_result",
          "data": {
            "text/plain": [
              "array([[32,  9],\n",
              "       [ 8, 42]])"
            ]
          },
          "metadata": {
            "tags": []
          },
          "execution_count": 27
        }
      ]
    },
    {
      "cell_type": "markdown",
      "metadata": {
        "id": "-OgMNDw3sItB"
      },
      "source": [
        "#### What can you say about the model? By looking the the accuracy and the confusion matrix. "
      ]
    },
    {
      "cell_type": "markdown",
      "metadata": {
        "id": "X3B4MB7vsPbJ"
      },
      "source": [
        "Our model seems to be doing well on the positive data points. The training accuracy seems to be pretty nice whereas, test accuracy can still be improved.\n"
      ]
    },
    {
      "cell_type": "markdown",
      "metadata": {
        "id": "pc9odd-eLzBm"
      },
      "source": [
        "### 2.2 Decision Tree **(30 marks)**"
      ]
    },
    {
      "cell_type": "markdown",
      "metadata": {
        "id": "aWuX0RcHOZa0"
      },
      "source": [
        "We will use a simple Decision Tree Classifer to classify the target variable. \n",
        "This is what you ought to keep in mind about decision trees.\n",
        "\n",
        "**from the docs of sklearn:**\n",
        "\n",
        "* `max_depth` : int or None, optional (default=None)\n",
        "  * The maximum depth of the tree. If **None**, then nodes are expanded until all leaves are pure or until all leaves contain less than `min_samples_split` samples.\n",
        "* `min_samples_split` : int, float, optional (default=2)\n",
        "\n",
        "**Remember:**\n",
        "\n",
        "The deeper the tree, the more prone you are to overfitting.\n",
        "The smaller `min_samples_split`, the more the overfitting. One may use `min_samples_leaf` instead. More samples per leaf, the higher the bias.\n",
        "\n",
        "**Steps to follow:**\n",
        "\n",
        "\n",
        "1. Use sklearn's DecisionTreeClassifer to fit the model on the training set - **do not** use `max_depth` here - let it be **default(None)** - we want to see how much the depth goes upto, and set the `random_state = rf`. Call this model **DecisionTree**\n",
        "2. Print the performance of the model(training and testing accuracy) using the accuracy function defined by you. \n",
        "3. Plot the confusion matrix to evaluate the model.\n",
        "4. Plot the Decision Tree built using sklearn's tree \n",
        "5. Based on the confusion matrix and the accuracy - draw conclusions about the model"
      ]
    },
    {
      "cell_type": "code",
      "metadata": {
        "id": "ggITbsSHLjCg",
        "colab": {
          "base_uri": "https://localhost:8080/"
        },
        "outputId": "2b8cdb62-3d15-474d-be6b-fcb8dac47a7f"
      },
      "source": [
        "#fit the model\n",
        "DecisionTree = DecisionTreeClassifier(random_state=rf)\n",
        "DecisionTree.fit(X_train, y_train)"
      ],
      "execution_count": 28,
      "outputs": [
        {
          "output_type": "execute_result",
          "data": {
            "text/plain": [
              "DecisionTreeClassifier(ccp_alpha=0.0, class_weight=None, criterion='gini',\n",
              "                       max_depth=None, max_features=None, max_leaf_nodes=None,\n",
              "                       min_impurity_decrease=0.0, min_impurity_split=None,\n",
              "                       min_samples_leaf=1, min_samples_split=2,\n",
              "                       min_weight_fraction_leaf=0.0, presort='deprecated',\n",
              "                       random_state=42, splitter='best')"
            ]
          },
          "metadata": {
            "tags": []
          },
          "execution_count": 28
        }
      ]
    },
    {
      "cell_type": "code",
      "metadata": {
        "id": "viy2f2A-L3AK",
        "colab": {
          "base_uri": "https://localhost:8080/"
        },
        "outputId": "36affff3-e9b7-4a57-a70e-4d109cc8a2f1"
      },
      "source": [
        "#Performance\n",
        "print(f\"The training accuracy of the DecisionTree model is {accuracy(X_train, y_train, DecisionTree)}\")\n",
        "print(f\"The testing accuracy of the DecisionTree model is {accuracy(X_test, y_test, DecisionTree)}\")"
      ],
      "execution_count": 29,
      "outputs": [
        {
          "output_type": "stream",
          "text": [
            "The training accuracy of the DecisionTree model is 1.0\n",
            "The testing accuracy of the DecisionTree model is 0.7362637362637363\n"
          ],
          "name": "stdout"
        }
      ]
    },
    {
      "cell_type": "code",
      "metadata": {
        "id": "y_TXEg7jMAg_",
        "colab": {
          "base_uri": "https://localhost:8080/",
          "height": 567
        },
        "outputId": "f4f4bb1e-70c7-4d11-93ce-3a54c200b227"
      },
      "source": [
        "#plot the tree\n",
        "plt.figure(figsize=(20, 10))\n",
        "tree.plot_tree(DecisionTree);"
      ],
      "execution_count": 30,
      "outputs": [
        {
          "output_type": "display_data",
          "data": {
            "image/png": "[encoded data removed]",
            "text/plain": [
              "<Figure size 1440x720 with 1 Axes>"
            ]
          },
          "metadata": {
            "tags": [],
            "needs_background": "light"
          }
        }
      ]
    },
    {
      "cell_type": "code",
      "metadata": {
        "id": "PoqjtK3AL8E5",
        "colab": {
          "base_uri": "https://localhost:8080/"
        },
        "outputId": "09b3c100-327b-4e23-b925-b2b5f533bc7b"
      },
      "source": [
        "#plot the confusion matrix\n",
        "confusion_matrix(y_test, DecisionTree.predict(X_test))"
      ],
      "execution_count": 31,
      "outputs": [
        {
          "output_type": "execute_result",
          "data": {
            "text/plain": [
              "array([[32,  9],\n",
              "       [15, 35]])"
            ]
          },
          "metadata": {
            "tags": []
          },
          "execution_count": 31
        }
      ]
    },
    {
      "cell_type": "markdown",
      "metadata": {
        "id": "4fTrnp7zQMsq"
      },
      "source": [
        "#### What conclusions can you draw from the confusion matrix above? How different is this from the Logistic Regression Model defined by you \n",
        " \n",
        "The model is overfitting on the training data and seems to do okay on the test data, the testing accuracy can still be improved.\n"
      ]
    },
    {
      "cell_type": "markdown",
      "metadata": {
        "id": "dPbpzXXmh7R2"
      },
      "source": [
        "### 2.2.1 Pruning **(25 marks)**"
      ]
    },
    {
      "cell_type": "markdown",
      "metadata": {
        "id": "FITD9M-zvA6x"
      },
      "source": [
        "Now you see based on the accuracy and the confusion matrix, your model is overfitting. Overfitting in Decision Trees is extremely common. To solve this issue, we will opt for two different approaches:\n",
        "\n",
        "1. **Pruning** by choosing the best cost complexity parameter(`ccp_alpha`), `ccp_alpha` controls how less or more the pruning happens. \n",
        "  * Greater values of `ccp_alpha` increase the number of nodes pruned. - A way to find the best `ccp_alpha` value is by plotting the testing and training accuracy for all `ccp_alpha` values, and then cross validating\n",
        "\n",
        "2. By finding the best **max_depth**. "
      ]
    },
    {
      "cell_type": "markdown",
      "metadata": {
        "id": "MZurAhjHiDi_"
      },
      "source": [
        "#### 2.2.1.1 Pruning using Cost complexity parameter - ccp_alpha"
      ]
    },
    {
      "cell_type": "markdown",
      "metadata": {
        "id": "-5_BDEbNMR5a"
      },
      "source": [
        "##### Cost Complexity Pruning: Visualize alpha"
      ]
    },
    {
      "cell_type": "markdown",
      "metadata": {
        "id": "Rg23ISN4v7H2"
      },
      "source": [
        "For finding the `best alpha` follow the steps below:\n",
        "\n",
        "1. From the previous Decision Tree built, get all the values of `ccp_alphas` and build a pruned tree for **each value** of `ccp_alphas`. \n",
        "\n",
        "2. Plot the alpha values with respect to the training and testing accuracy. You plot should look something like this(**remember your plot will vary based on your model hence it will not look exactly like this**)\n",
        "![accuracy.jpeg](https://drive.google.com/uc?export=view&id=1aUAAOS5rvsXQpadMNhDlbinpA7OJCais)\n",
        "  * Create a datadrame with the training accuracy, testing accuracy and the respective alpha values. (call this dataframe as **scores**)\n",
        "  * An example of this is below:\n",
        "  \n",
        "![ttsplit.jpeg](https://drive.google.com/uc?export=view&id=1yZnIefjMrDrSptYhysiwkRwvoRKNNUp8)\n",
        "  * From the graph find out the value of best alpha.\n",
        "  * Use this alpha to create a new model - call this model **DT_test**. \n",
        "  * Check the accuracy, and the plot the confusion matrix and the tree\n",
        "  * Is the model performing better than the base Decision tree model you built?\n",
        "\n",
        "3. Now, we got the best alpha for the training set we gave initially, however there is a possibility that if we have different training sets, the accuracy of the model and the best alpha value will also vary. \n",
        "  * To check this, perform **5-fold cross validation** with training set. This will help us see if the **accuracy varies for different values of training set**. If yes, then we can move forward with find different alpha values to get the most optimal alpha\n",
        "\n",
        "4. Once you have confirmed that you get different accuracies, we will find a better alpha value than we did in the DT_test case. \n",
        "  * For this we will first check the range of alphas we got and the difference between two alpha values. We will cross validate our model using GridSearchCv - where the param_grid passed to it, will have the alpha values for the range we found and with the step_size as the difference. \n",
        "  * For example:\n",
        "  Consider the dataframe image(scores), the range of alpha is from 0 to 0.0044 with a difference between two alphas as 0.001. This is what will be passed to the param_grid. This allows us to find a better value of alpha than the previous DT_test model. Name this alpha as `ideal_alpha_value`\n",
        "4. Use this `ideal_alpha_value` in the new DecisionTreeClassifer Model - call it **DT_pruned**. \n",
        "  * Calculate the perfomance of the model\n",
        "  * Plot the confusion matrix \n",
        "  * Plot the tree\n",
        "  * Is this tree performing better than DT_test and Decision tree baseline model?"
      ]
    },
    {
      "cell_type": "markdown",
      "metadata": {
        "id": "cvpe_w1FXWxr"
      },
      "source": [
        "##### **Step 1:** Get all the values of Alpha and build a pruned tree for each value. \n",
        "First step, is to extract all the alpha and impurity values for the previous tree(Decision_tree) that we built and build a **pruned tree** for each value of alpha. \n",
        "\n",
        "**NOTE:**\n",
        "\n",
        "**Omit the maximum value of alpha - this is beacause the maximum value would prune all leaves, hence leaving us with only root instead of the tree.**\n",
        "\n",
        "Hence: \n",
        "\n",
        "`ccp_alphas = ccp_alphas[:-1]`"
      ]
    },
    {
      "cell_type": "code",
      "metadata": {
        "id": "TG0yVvT90ivY"
      },
      "source": [
        "#Cost Complexity Pruning\n",
        "path= DecisionTree.cost_complexity_pruning_path(X_train, y_train)\n",
        "ccp_alphas = path[\"ccp_alphas\"]\n",
        "ccp_alphas = ccp_alphas[:-1]"
      ],
      "execution_count": 32,
      "outputs": []
    },
    {
      "cell_type": "code",
      "metadata": {
        "id": "uDBvGYgo0kIk"
      },
      "source": [
        "#create a dictionary to store all the alpha values, and fit a model on each value of ccp_alphas we got from the previous step\n",
        "DT_alphas = {}\n",
        "train_scores = []\n",
        "test_scores = []\n",
        "for alpha in ccp_alphas:\n",
        "    dt_model_temp = DecisionTreeClassifier(ccp_alpha=alpha, random_state=rf)\n",
        "    dt_model_temp.fit(X_train, y_train)\n",
        "    train_scores.append(accuracy(X_train, y_train, dt_model_temp))\n",
        "    test_scores.append(accuracy(X_test, y_test, dt_model_temp))\n",
        "    DT_alphas[alpha] = dt_model_temp"
      ],
      "execution_count": 33,
      "outputs": []
    },
    {
      "cell_type": "markdown",
      "metadata": {
        "id": "3pnv86BEV7_n"
      },
      "source": [
        "##### **Step 2**: Plot the training and testing accuracies, and store the values in a data frame called `scores`"
      ]
    },
    {
      "cell_type": "code",
      "metadata": {
        "id": "YAWXCxu_MXSn",
        "colab": {
          "base_uri": "https://localhost:8080/",
          "height": 335
        },
        "outputId": "38193df2-1be4-4cd8-ebea-4330d6890528"
      },
      "source": [
        "#Plotting test v/s train accuracies\n",
        "plt.figure(figsize=(10, 5))\n",
        "plt.plot(list(DT_alphas.keys()), train_scores, marker=\"o\", drawstyle=\"steps-post\")\n",
        "plt.plot(list(DT_alphas.keys()), test_scores, marker=\"o\", drawstyle=\"steps-post\")\n",
        "plt.xlabel(\"CCP_Alpha\")\n",
        "plt.ylabel(\"Accuracy\")\n",
        "plt.show()"
      ],
      "execution_count": 35,
      "outputs": [
        {
          "output_type": "display_data",
          "data": {
            "image/png": "[encoded data removed]",
            "text/plain": [
              "<Figure size 720x360 with 1 Axes>"
            ]
          },
          "metadata": {
            "tags": [],
            "needs_background": "light"
          }
        }
      ]
    },
    {
      "cell_type": "code",
      "metadata": {
        "id": "12ooyIjdfEjQ",
        "colab": {
          "base_uri": "https://localhost:8080/",
          "height": 195
        },
        "outputId": "f46ab3c7-2502-46f1-c869-357f366c46fd"
      },
      "source": [
        "scores = pd.DataFrame(dict(train_score=train_scores, test_score=test_scores, alpha=DT_alphas.keys()))\n",
        "scores.head()"
      ],
      "execution_count": 36,
      "outputs": [
        {
          "output_type": "execute_result",
          "data": {
            "text/html": [
              "<div>\n",
              "<style scoped>\n",
              "    .dataframe tbody tr th:only-of-type {\n",
              "        vertical-align: middle;\n",
              "    }\n",
              "\n",
              "    .dataframe tbody tr th {\n",
              "        vertical-align: top;\n",
              "    }\n",
              "\n",
              "    .dataframe thead th {\n",
              "        text-align: right;\n",
              "    }\n",
              "</style>\n",
              "<table border=\"1\" class=\"dataframe\">\n",
              "  <thead>\n",
              "    <tr style=\"text-align: right;\">\n",
              "      <th></th>\n",
              "      <th>train_score</th>\n",
              "      <th>test_score</th>\n",
              "      <th>alpha</th>\n",
              "    </tr>\n",
              "  </thead>\n",
              "  <tbody>\n",
              "    <tr>\n",
              "      <th>0</th>\n",
              "      <td>1.000000</td>\n",
              "      <td>0.736264</td>\n",
              "      <td>0.000000</td>\n",
              "    </tr>\n",
              "    <tr>\n",
              "      <th>1</th>\n",
              "      <td>0.995283</td>\n",
              "      <td>0.725275</td>\n",
              "      <td>0.003075</td>\n",
              "    </tr>\n",
              "    <tr>\n",
              "      <th>2</th>\n",
              "      <td>0.990566</td>\n",
              "      <td>0.725275</td>\n",
              "      <td>0.003145</td>\n",
              "    </tr>\n",
              "    <tr>\n",
              "      <th>3</th>\n",
              "      <td>0.981132</td>\n",
              "      <td>0.736264</td>\n",
              "      <td>0.004188</td>\n",
              "    </tr>\n",
              "    <tr>\n",
              "      <th>4</th>\n",
              "      <td>0.976415</td>\n",
              "      <td>0.736264</td>\n",
              "      <td>0.004323</td>\n",
              "    </tr>\n",
              "  </tbody>\n",
              "</table>\n",
              "</div>"
            ],
            "text/plain": [
              "   train_score  test_score     alpha\n",
              "0     1.000000    0.736264  0.000000\n",
              "1     0.995283    0.725275  0.003075\n",
              "2     0.990566    0.725275  0.003145\n",
              "3     0.981132    0.736264  0.004188\n",
              "4     0.976415    0.736264  0.004323"
            ]
          },
          "metadata": {
            "tags": []
          },
          "execution_count": 36
        }
      ]
    },
    {
      "cell_type": "code",
      "metadata": {
        "id": "CRE9pjetfP__"
      },
      "source": [
        "best_alpha = scores.iloc[scores.test_score.idxmin(), 2]"
      ],
      "execution_count": null,
      "outputs": []
    },
    {
      "cell_type": "markdown",
      "metadata": {
        "id": "xEZXt6t7ZsOj"
      },
      "source": [
        "###### **Which is the best value of alpha? and why?**\n",
        "\n",
        "your answer here"
      ]
    },
    {
      "cell_type": "markdown",
      "metadata": {
        "id": "rb-SGtZC6LjA"
      },
      "source": [
        "###### Lets fit a model on the best_alpha value we obtained from the previous step, this will show us how much is the model pruned.\n",
        "\n",
        "Call this model **DT_test**"
      ]
    },
    {
      "cell_type": "code",
      "metadata": {
        "id": "sXZLua-F0Boi",
        "colab": {
          "base_uri": "https://localhost:8080/"
        },
        "outputId": "92dedaa8-727c-4d34-9059-99a812ea9925"
      },
      "source": [
        "#fit the model with the best ccp_alpha value you got\n",
        "best_alpha = scores.iloc[scores.test_score.idxmin(), 2]\n",
        "DT_test = DecisionTreeClassifier(ccp_alpha=best_alpha, random_state=rf)\n",
        "DT_test.fit(X_train, y_train)"
      ],
      "execution_count": 37,
      "outputs": [
        {
          "output_type": "execute_result",
          "data": {
            "text/plain": [
              "DecisionTreeClassifier(ccp_alpha=0.023590665100099065, class_weight=None,\n",
              "                       criterion='gini', max_depth=None, max_features=None,\n",
              "                       max_leaf_nodes=None, min_impurity_decrease=0.0,\n",
              "                       min_impurity_split=None, min_samples_leaf=1,\n",
              "                       min_samples_split=2, min_weight_fraction_leaf=0.0,\n",
              "                       presort='deprecated', random_state=42, splitter='best')"
            ]
          },
          "metadata": {
            "tags": []
          },
          "execution_count": 37
        }
      ]
    },
    {
      "cell_type": "code",
      "metadata": {
        "id": "0c57q0C1z0kr",
        "colab": {
          "base_uri": "https://localhost:8080/",
          "height": 567
        },
        "outputId": "5b0428a7-5caa-43de-ac61-0335128f5c24"
      },
      "source": [
        "#plot the tree to see the pruning\n",
        "plt.figure(figsize=(20, 10))\n",
        "tree.plot_tree(DT_test);"
      ],
      "execution_count": 38,
      "outputs": [
        {
          "output_type": "display_data",
          "data": {
            "image/png": "[encoded data removed]",
            "text/plain": [
              "<Figure size 1440x720 with 1 Axes>"
            ]
          },
          "metadata": {
            "tags": [],
            "needs_background": "light"
          }
        }
      ]
    },
    {
      "cell_type": "code",
      "metadata": {
        "id": "Ww7k08DN6wxE",
        "colab": {
          "base_uri": "https://localhost:8080/"
        },
        "outputId": "1d49e031-ad22-4c0f-f432-19ba5d1be43e"
      },
      "source": [
        "#check the training and testing score as well\n",
        "print(f\"The training accuracy of the Pruned DecisionTree model is {accuracy(X_train, y_train, DT_test)}\")\n",
        "print(f\"The testing accuracy of the Pruned DecisionTree model is {accuracy(X_test, y_test, DT_test)}\")"
      ],
      "execution_count": 39,
      "outputs": [
        {
          "output_type": "stream",
          "text": [
            "The training accuracy of the Pruned DecisionTree model is 0.7971698113207547\n",
            "The testing accuracy of the Pruned DecisionTree model is 0.6923076923076923\n"
          ],
          "name": "stdout"
        }
      ]
    },
    {
      "cell_type": "code",
      "metadata": {
        "id": "qAvRz_j_6-Ay",
        "colab": {
          "base_uri": "https://localhost:8080/"
        },
        "outputId": "0d1c5bec-346b-45fa-9bb4-b6178ea00606"
      },
      "source": [
        "#plot the confusion matrix\n",
        "confusion_matrix(y_test, DT_test.predict(X_test))"
      ],
      "execution_count": 40,
      "outputs": [
        {
          "output_type": "execute_result",
          "data": {
            "text/plain": [
              "array([[35,  6],\n",
              "       [22, 28]])"
            ]
          },
          "metadata": {
            "tags": []
          },
          "execution_count": 40
        }
      ]
    },
    {
      "cell_type": "markdown",
      "metadata": {
        "id": "GnEmcDVw7ExX"
      },
      "source": [
        "###### **What do you notice here?**\n",
        "You see that the model performs slightly better,and is able to predict the true positives and false positives a little better than the base Decision tree model. \n",
        "\n",
        "We need to still get a much more accurate value of ccp_alpha to see a better pruned model. "
      ]
    },
    {
      "cell_type": "markdown",
      "metadata": {
        "id": "-sLJbr_ZMssg"
      },
      "source": [
        "##### Step 3: Cross Validate to find the **Best Alpha**"
      ]
    },
    {
      "cell_type": "markdown",
      "metadata": {
        "id": "Xsmh-7fzaMeu"
      },
      "source": [
        "Now that you know your best alpha. Can it be possible for a different training set your value of best alpha and accuracy can change? Lets check this!\n",
        "\n",
        "To do this we will use Cross validation, we will do 5-fold cross validation here. \n",
        "\n",
        "What we want to see here is, how accurate the tree is with different sets of training data, **while the alpha value remains the same**(i.e. Set the value of ccp_alpha same as the best value of alpha you got from the previous step)\n",
        "\n",
        "Plot tree vs accuracy. It should look something like this:\n",
        "\n",
        "![tree_accuracy.jpeg](https://drive.google.com/uc?export=view&id=15-u3_4Bp3piEFVmn8y6-wxCdKpuEHuTt)"
      ]
    },
    {
      "cell_type": "code",
      "metadata": {
        "id": "YS7sE0Bdz20L",
        "colab": {
          "base_uri": "https://localhost:8080/",
          "height": 285
        },
        "outputId": "0e5dbdac-de0f-45f1-d861-c81737815177"
      },
      "source": [
        "#use 5-fold cross validation to change the training set, plot the change in accuracy for each cross validated tree\n",
        "#your code here\n",
        "cv = cross_val_score(estimator = DecisionTreeClassifier(ccp_alpha=best_alpha, random_state=rf), X = X_train, y =  y_train, cv = 5)\n",
        "plt.plot(range(5), cv)"
      ],
      "execution_count": 42,
      "outputs": [
        {
          "output_type": "execute_result",
          "data": {
            "text/plain": [
              "[<matplotlib.lines.Line2D at 0x7fc10a354c90>]"
            ]
          },
          "metadata": {
            "tags": []
          },
          "execution_count": 42
        },
        {
          "output_type": "display_data",
          "data": {
            "image/png": "[encoded data removed]",
            "text/plain": [
              "<Figure size 432x288 with 1 Axes>"
            ]
          },
          "metadata": {
            "tags": [],
            "needs_background": "light"
          }
        }
      ]
    },
    {
      "cell_type": "markdown",
      "metadata": {
        "id": "VKvObMq8WNv3"
      },
      "source": [
        "Hence this proves that we get different accuracies when we do cross validation, hence this also means we wil have different values of best alphas\n",
        "\n",
        "Now lets cross validate to find the best alpha\n",
        "* So from the dataframe we built to find the best alpha, find the **range of alpha** and the **step_size**. \n",
        "* Perform GridSearchCV for the range of alphas with step size. And from this we will find the best alpha value. \n",
        "\n"
      ]
    },
    {
      "cell_type": "code",
      "metadata": {
        "id": "eF4lt6Zq_pbS"
      },
      "source": [
        "#range of alphas\n",
        "step_size = 0.001\n",
        "alpha_range = np.arange(scores['alpha'].min(), scores['alpha'].max(), step_size)\n",
        "dtree_clf = DecisionTreeClassifier(random_state=rf)\n",
        "param_grid = {'ccp_alpha':alpha_range}\n",
        "dtree_cv = GridSearchCV(dtree_clf, param_grid, n_jobs=-1)\n"
      ],
      "execution_count": 43,
      "outputs": []
    },
    {
      "cell_type": "code",
      "metadata": {
        "id": "jmak-QnQ_bTX",
        "colab": {
          "base_uri": "https://localhost:8080/"
        },
        "outputId": "11443818-7368-4009-a099-73612541a827"
      },
      "source": [
        "#hyper-parameter tuning and model fit\n",
        "dtree_cv.fit(X_train, y_train)"
      ],
      "execution_count": 44,
      "outputs": [
        {
          "output_type": "execute_result",
          "data": {
            "text/plain": [
              "GridSearchCV(cv=None, error_score=nan,\n",
              "             estimator=DecisionTreeClassifier(ccp_alpha=0.0, class_weight=None,\n",
              "                                              criterion='gini', max_depth=None,\n",
              "                                              max_features=None,\n",
              "                                              max_leaf_nodes=None,\n",
              "                                              min_impurity_decrease=0.0,\n",
              "                                              min_impurity_split=None,\n",
              "                                              min_samples_leaf=1,\n",
              "                                              min_samples_split=2,\n",
              "                                              min_weight_fraction_leaf=0.0,\n",
              "                                              presort='deprecated',\n",
              "                                              random_state=42,\n",
              "                                              splitter='best'),\n",
              "             iid='d...\n",
              "       0.018, 0.019, 0.02 , 0.021, 0.022, 0.023, 0.024, 0.025, 0.026,\n",
              "       0.027, 0.028, 0.029, 0.03 , 0.031, 0.032, 0.033, 0.034, 0.035,\n",
              "       0.036, 0.037, 0.038, 0.039, 0.04 , 0.041, 0.042, 0.043, 0.044,\n",
              "       0.045, 0.046, 0.047, 0.048, 0.049, 0.05 , 0.051, 0.052, 0.053,\n",
              "       0.054, 0.055, 0.056, 0.057, 0.058, 0.059, 0.06 , 0.061, 0.062,\n",
              "       0.063, 0.064, 0.065, 0.066, 0.067, 0.068])},\n",
              "             pre_dispatch='2*n_jobs', refit=True, return_train_score=False,\n",
              "             scoring=None, verbose=0)"
            ]
          },
          "metadata": {
            "tags": []
          },
          "execution_count": 44
        }
      ]
    },
    {
      "cell_type": "code",
      "metadata": {
        "id": "s6EiTB39AcUS",
        "colab": {
          "base_uri": "https://localhost:8080/"
        },
        "outputId": "62ae785e-4921-4326-f8b8-52c08ec9e48b"
      },
      "source": [
        "#find the best parameter\n",
        "print(\"Best alpha =\",dtree_cv.best_params_)"
      ],
      "execution_count": 45,
      "outputs": [
        {
          "output_type": "stream",
          "text": [
            "Best alpha = {'ccp_alpha': 0.014}\n"
          ],
          "name": "stdout"
        }
      ]
    },
    {
      "cell_type": "markdown",
      "metadata": {
        "id": "u4xRrmFqdgdM"
      },
      "source": [
        "What value of alpha is provided by the gridsearchcv?\n",
        "\n",
        "your answer here"
      ]
    },
    {
      "cell_type": "markdown",
      "metadata": {
        "id": "mkem9OuseDBS"
      },
      "source": [
        "Now lets get the `ideal_ccp_alpha` from the gridsearch"
      ]
    },
    {
      "cell_type": "code",
      "metadata": {
        "id": "Vlp1WJYaeHS8"
      },
      "source": [
        "ideal_ccp_alpha = dtree_cv.best_params_['ccp_alpha']"
      ],
      "execution_count": 46,
      "outputs": []
    },
    {
      "cell_type": "markdown",
      "metadata": {
        "id": "ufc8mvpIl2CB"
      },
      "source": [
        "##### Step 4: Fit a new Decision Tree called **DT_pruned**\n",
        "\n",
        "1. Fit a new Decision_Tree on the ideal_ccp_alpha value we got from the previous step, set the `random state = rf`\n",
        "2. Print the performance of the model(training and testing accuracy) using the accuracy function defined by you. \n",
        "3. Plot the confusion matrix to evaluate the model. \n",
        "4. Based on the confusion matrix and the accuracy - draw conclusions about the model\n",
        "5. Plot the Decision Tree built using sklearn's tree"
      ]
    },
    {
      "cell_type": "code",
      "metadata": {
        "id": "5e3yEBYANJ--",
        "colab": {
          "base_uri": "https://localhost:8080/"
        },
        "outputId": "5c450d26-a8fe-4a74-edb9-3ba4ab4065e3"
      },
      "source": [
        "#fit the model\n",
        "DT_pruned = DecisionTreeClassifier(ccp_alpha=ideal_ccp_alpha, random_state=rf)\n",
        "DT_pruned.fit(X_train, y_train)\n",
        "y_train_pred = DT_pruned.predict(X_train)\n",
        "y_test_pred = DT_pruned.predict(X_test)\n",
        "print(\"Accuracy of decicision tree classifier on train data = {:.2f}\".format(accuracy_score(y_train, y_train_pred)))\n",
        "print(\"Accuracy of decicision tree classifier on test data = {:.2f}\".format(accuracy_score(y_test, y_test_pred)))"
      ],
      "execution_count": 47,
      "outputs": [
        {
          "output_type": "stream",
          "text": [
            "Accuracy of decicision tree classifier on train data = 0.90\n",
            "Accuracy of decicision tree classifier on test data = 0.77\n"
          ],
          "name": "stdout"
        }
      ]
    },
    {
      "cell_type": "code",
      "metadata": {
        "id": "jOUJokG8ylGv",
        "colab": {
          "base_uri": "https://localhost:8080/",
          "height": 567
        },
        "outputId": "b488727d-7604-42be-884e-760cb1849d6b"
      },
      "source": [
        "#plot the tree\n",
        "plt.figure(figsize=(20, 10))\n",
        "tree.plot_tree(DT_pruned);"
      ],
      "execution_count": 48,
      "outputs": [
        {
          "output_type": "display_data",
          "data": {
            "image/png": "[encoded data removed]",
            "text/plain": [
              "<Figure size 1440x720 with 1 Axes>"
            ]
          },
          "metadata": {
            "tags": [],
            "needs_background": "light"
          }
        }
      ]
    },
    {
      "cell_type": "code",
      "metadata": {
        "id": "Q5akz6ixNLwt",
        "colab": {
          "base_uri": "https://localhost:8080/",
          "height": 279
        },
        "outputId": "1834891c-b1dd-4ff8-db52-8344e421996c"
      },
      "source": [
        "#plot the confusion matrix\n",
        "sns.heatmap(confusion_matrix(y_test, y_test_pred), annot=True)\n",
        "plt.xlabel(\"Observed\")\n",
        "plt.ylabel(\"Predicted\")\n",
        "plt.show()"
      ],
      "execution_count": 49,
      "outputs": [
        {
          "output_type": "display_data",
          "data": {
            "image/png": "[encoded data removed]",
            "text/plain": [
              "<Figure size 432x288 with 2 Axes>"
            ]
          },
          "metadata": {
            "tags": [],
            "needs_background": "light"
          }
        }
      ]
    },
    {
      "cell_type": "code",
      "metadata": {
        "id": "HtoUuq-iypEk",
        "colab": {
          "base_uri": "https://localhost:8080/"
        },
        "outputId": "0233c7c3-64c7-4a9c-d705-6d8c4421da0a"
      },
      "source": [
        "#Performance\n",
        "print(\"Accuracy of decicision tree classifier on train data = {:.2f}\".format(accuracy_score(y_train, y_train_pred)))\n",
        "print(\"Accuracy of decicision tree classifier on test data = {:.2f}\".format(accuracy_score(y_test, y_test_pred)))"
      ],
      "execution_count": 50,
      "outputs": [
        {
          "output_type": "stream",
          "text": [
            "Accuracy of decicision tree classifier on train data = 0.90\n",
            "Accuracy of decicision tree classifier on test data = 0.77\n"
          ],
          "name": "stdout"
        }
      ]
    },
    {
      "cell_type": "markdown",
      "metadata": {
        "id": "6xULnXHxmtOf"
      },
      "source": [
        "###### What conclusions can you draw from the confusion matrix above? How different is this from the Basic Decision Tree Model defined by you\n",
        "\n",
        "This model performs better than the simple basic decision tree model but worse than the DT_test slightly. The number of False positives and negatives are more than that in the confusion matrix of DT_test.\n"
      ]
    },
    {
      "cell_type": "markdown",
      "metadata": {
        "id": "7_lPN9Fs1uvd"
      },
      "source": [
        "#### 2.2.1.2 Pruning Single Decision Tree by Depth"
      ]
    },
    {
      "cell_type": "markdown",
      "metadata": {
        "id": "t964PlVHF0Rg"
      },
      "source": [
        "We fit here a single tree to our dataset and perform 5-fold cross validation on the training set. For **EACH depth of the tree, we fit a tree** and then compute the 5-fold CV scores. These scores are then averaged and compared across different depths."
      ]
    },
    {
      "cell_type": "markdown",
      "metadata": {
        "id": "ikW5g2yWjTKH"
      },
      "source": [
        "1. Write a code to cross validate for different depths( 5 fold cross validation) on the training set. Consider the value of `min_samples_split=10`\n",
        "\n",
        "2. Plot the cross validation accuracy against each depth. \n",
        "\n",
        "3. Based on the graph, chose the `best_depth`\n",
        "\n",
        "4. Using the value of `best_depth`, fit a new decision tree classifer, and check its training and testing accuracy and plot its confusion matrix"
      ]
    },
    {
      "cell_type": "code",
      "metadata": {
        "id": "csDaZy_D1rhu"
      },
      "source": [
        "#Find optimal depth of trees\n",
        "#Find optimal depth of trees\n",
        "depth, tree_start, tree_end = {}, 1, 20\n",
        "for i in range(tree_start, tree_end):\n",
        "    model = DecisionTreeClassifier(max_depth=i, min_samples_split=10, random_state=rf)\n",
        "    scores = cross_val_score(estimator=model, X=X_train, y=y_train, cv=5, n_jobs=-1)\n",
        "    depth[i] = scores.mean()"
      ],
      "execution_count": 51,
      "outputs": []
    },
    {
      "cell_type": "code",
      "metadata": {
        "id": "IO5dB0WTnbAc",
        "colab": {
          "base_uri": "https://localhost:8080/",
          "height": 295
        },
        "outputId": "9f698a88-8c54-4dc8-d81d-149b612e7391"
      },
      "source": [
        "#Plot the variation of cross validation accuracy wrt max_depth\n",
        "lists = sorted(depth.items())\n",
        "x, y = zip(*lists) \n",
        "plt.ylabel(\"Cross Validation Accuracy\")\n",
        "plt.xlabel(\"Maximum Depth\")\n",
        "plt.title('Variation of Accuracy with Depth - Simple Decision Tree')\n",
        "plt.plot(x, y, 'b-', marker='o')\n",
        "plt.show()"
      ],
      "execution_count": 52,
      "outputs": [
        {
          "output_type": "display_data",
          "data": {
            "image/png": "[encoded data removed]",
            "text/plain": [
              "<Figure size 432x288 with 1 Axes>"
            ]
          },
          "metadata": {
            "tags": [],
            "needs_background": "light"
          }
        }
      ]
    },
    {
      "cell_type": "markdown",
      "metadata": {
        "id": "XYk9AgMcHPIo"
      },
      "source": [
        "##### What is the optimal depth according to you from the graph above. \n",
        "\n"
      ]
    },
    {
      "cell_type": "code",
      "metadata": {
        "id": "DHeukSwrHLQf",
        "colab": {
          "base_uri": "https://localhost:8080/"
        },
        "outputId": "4f889287-5be4-42a4-de65-989546028e3c"
      },
      "source": [
        "#Make 'best_depth' a variable\n",
        "best_depth = sorted(depth.items(), key = lambda x: x[1], reverse = True)[0][0]\n",
        "best_depth"
      ],
      "execution_count": 59,
      "outputs": [
        {
          "output_type": "execute_result",
          "data": {
            "text/plain": [
              "3"
            ]
          },
          "metadata": {
            "tags": []
          },
          "execution_count": 59
        }
      ]
    },
    {
      "cell_type": "markdown",
      "metadata": {
        "id": "GlJh-0zbn4mn"
      },
      "source": [
        "##### Set the max_depth as best_depth obtained in previous part\n",
        "\n",
        "1. Set the max_depth as best_depth obtained in previous part, and fit the model, set the `random_state = rf`. Call this model **DT_max_depth**\n",
        "2. Print the performance of the model(training and testing accuracy) using the accuracy function defined by you. \n",
        "3. Plot the confusion matrix to evaluate the model. \n",
        "4. Based on the confusion matrix and the accuracy \n",
        "5. Plot the Decision Tree built using sklearn's tree\n"
      ]
    },
    {
      "cell_type": "code",
      "metadata": {
        "id": "EkW3j2H7HV4k",
        "colab": {
          "base_uri": "https://localhost:8080/"
        },
        "outputId": "7a217a8c-c24e-4e1d-e348-5ef56b84229a"
      },
      "source": [
        "#fit the model\n",
        "DT_max_depth = DecisionTreeClassifier(max_depth=best_depth, min_samples_split=10, random_state=rf)\n",
        "DT_max_depth.fit(X_train, y_train)"
      ],
      "execution_count": 60,
      "outputs": [
        {
          "output_type": "execute_result",
          "data": {
            "text/plain": [
              "DecisionTreeClassifier(ccp_alpha=0.0, class_weight=None, criterion='gini',\n",
              "                       max_depth=3, max_features=None, max_leaf_nodes=None,\n",
              "                       min_impurity_decrease=0.0, min_impurity_split=None,\n",
              "                       min_samples_leaf=1, min_samples_split=10,\n",
              "                       min_weight_fraction_leaf=0.0, presort='deprecated',\n",
              "                       random_state=42, splitter='best')"
            ]
          },
          "metadata": {
            "tags": []
          },
          "execution_count": 60
        }
      ]
    },
    {
      "cell_type": "code",
      "metadata": {
        "id": "CJNJsHTKHgYD",
        "colab": {
          "base_uri": "https://localhost:8080/"
        },
        "outputId": "344b08b0-51ed-4250-97e2-d2ccf775a79e"
      },
      "source": [
        "#Performance\n",
        "y_train_pred = DT_max_depth.predict(X_train)\n",
        "y_test_pred = DT_max_depth.predict(X_test)\n",
        "print(\"Accuracy of decicision tree classifier on train data = {:.2f}\".format(accuracy_score(y_train, y_train_pred)))\n",
        "print(\"Accuracy of decicision tree classifier on test data = {:.2f}\".format(accuracy_score(y_test, y_test_pred)))"
      ],
      "execution_count": 61,
      "outputs": [
        {
          "output_type": "stream",
          "text": [
            "Accuracy of decicision tree classifier on train data = 0.87\n",
            "Accuracy of decicision tree classifier on test data = 0.77\n"
          ],
          "name": "stdout"
        }
      ]
    },
    {
      "cell_type": "code",
      "metadata": {
        "id": "zQaNdTCGHsbf",
        "colab": {
          "base_uri": "https://localhost:8080/",
          "height": 279
        },
        "outputId": "dc4c03c1-4c84-45c9-f299-9a8e5d03722b"
      },
      "source": [
        "#confusion matrix\n",
        "sns.heatmap(confusion_matrix(y_test, y_test_pred), annot=True)\n",
        "plt.xlabel(\"Observed\")\n",
        "plt.ylabel(\"Predicted\")\n",
        "plt.show()"
      ],
      "execution_count": 62,
      "outputs": [
        {
          "output_type": "display_data",
          "data": {
            "image/png": "[encoded data removed]",
            "text/plain": [
              "<Figure size 432x288 with 2 Axes>"
            ]
          },
          "metadata": {
            "tags": [],
            "needs_background": "light"
          }
        }
      ]
    },
    {
      "cell_type": "code",
      "metadata": {
        "id": "3n60bAci2BWm",
        "colab": {
          "base_uri": "https://localhost:8080/",
          "height": 567
        },
        "outputId": "8fd891ee-1253-4855-807a-aabae339aea6"
      },
      "source": [
        "#plot the tree\n",
        "plt.figure(figsize=(20, 10))\n",
        "tree.plot_tree(DT_max_depth);"
      ],
      "execution_count": 63,
      "outputs": [
        {
          "output_type": "display_data",
          "data": {
            "image/png": "[encoded data removed]",
            "text/plain": [
              "<Figure size 1440x720 with 1 Axes>"
            ]
          },
          "metadata": {
            "tags": [],
            "needs_background": "light"
          }
        }
      ]
    },
    {
      "cell_type": "markdown",
      "metadata": {
        "id": "Gj7vjg2q0cq1"
      },
      "source": [
        "#### 2.2.2 Comparing Decision Tree models\n",
        "\n",
        "Of the three Models built - Decision tree, DT_pruned(with idea_ccp_alpha) and DT_max_depth(with best_depth) which Model performs better and why?\n",
        "\n",
        "The model 'DT_pruned' gives the best performance amongst the three as we are allowing the tree to grow upto the last possible depth and so it is easily capturing the complexity of the data though overfitting to some extent. However, we are using pruning to reduce the overfitting and capture the optimum bias-variance trade-off and thus it is the most optimum model amongst the three."
      ]
    },
    {
      "cell_type": "markdown",
      "metadata": {
        "id": "B363lqGF4ZsX"
      },
      "source": [
        "### 2.3 Bagging Tree Model **(10 marks)**"
      ]
    },
    {
      "cell_type": "markdown",
      "metadata": {
        "id": "V79mC9eaOPVU"
      },
      "source": [
        "Whats the basic idea?\n",
        "\n",
        "A Single Decision tree is likely to overfit as seen previously.\n",
        "So lets introduce replication through Bootstrap sampling.\n",
        "Bagging uses bootstrap resampling to create different training datasets. This way each training will give us a different tree."
      ]
    },
    {
      "cell_type": "markdown",
      "metadata": {
        "id": "TvirO6Nc4dAr"
      },
      "source": [
        "\n",
        "1. Provide the `model` as baggingclassifer with `random state = rf`\n",
        "2. Set the `bagging parameters` - `n_estimators` to be a range from 30 to 150.\n",
        "3. Pass the `bagging parameters` and `model` to the `GridSearchCV` and set the `cv = 10` and `scoring = 'accuracy'`\n",
        "4. Fit the model\n",
        "5. Find the testing and training accuracy\n",
        "6. Plot the confusion matrix"
      ]
    },
    {
      "cell_type": "code",
      "metadata": {
        "id": "zOUU-gpo4kPN",
        "colab": {
          "base_uri": "https://localhost:8080/"
        },
        "outputId": "54f3ba1c-646c-4b06-f373-f73792d943b0"
      },
      "source": [
        "#Hyper-parameter tuning\n",
        "bag =  BaggingClassifier(random_state=rf)\n",
        "param_grid = {'n_estimators':range(30,150)}\n",
        "bag_gs = GridSearchCV(bag, param_grid, n_jobs=-1)\n",
        "bag_gs.fit(X_train, y_train)"
      ],
      "execution_count": 64,
      "outputs": [
        {
          "output_type": "execute_result",
          "data": {
            "text/plain": [
              "GridSearchCV(cv=None, error_score=nan,\n",
              "             estimator=BaggingClassifier(base_estimator=None, bootstrap=True,\n",
              "                                         bootstrap_features=False,\n",
              "                                         max_features=1.0, max_samples=1.0,\n",
              "                                         n_estimators=10, n_jobs=None,\n",
              "                                         oob_score=False, random_state=42,\n",
              "                                         verbose=0, warm_start=False),\n",
              "             iid='deprecated', n_jobs=-1,\n",
              "             param_grid={'n_estimators': range(30, 150)},\n",
              "             pre_dispatch='2*n_jobs', refit=True, return_train_score=False,\n",
              "             scoring=None, verbose=0)"
            ]
          },
          "metadata": {
            "tags": []
          },
          "execution_count": 64
        }
      ]
    },
    {
      "cell_type": "code",
      "metadata": {
        "id": "JxRrqp1v4mR3",
        "colab": {
          "base_uri": "https://localhost:8080/"
        },
        "outputId": "d36daa59-254a-475e-d780-bd53ce7b8b37"
      },
      "source": [
        "#Print the best parameters\n",
        "bag_best = bag_gs.best_estimator_\n",
        "print(\"Best parameters=\",bag_gs.best_params_)"
      ],
      "execution_count": 82,
      "outputs": [
        {
          "output_type": "stream",
          "text": [
            "Best parameters= {'n_estimators': 84}\n"
          ],
          "name": "stdout"
        }
      ]
    },
    {
      "cell_type": "code",
      "metadata": {
        "id": "KSOjRRgs4ofq",
        "colab": {
          "base_uri": "https://localhost:8080/"
        },
        "outputId": "4ac4be73-9e82-438b-f8c2-5f01f030fd0e"
      },
      "source": [
        "#Performance\n",
        "y_train_pred = bag_gs.predict(X_train)\n",
        "y_test_pred = bag_gs.predict(X_test)\n",
        "print(\"Accuracy of Logisteic Regression classifier on train data = {:.2f}\".format(accuracy_score(y_train, y_train_pred)))\n",
        "print(\"Accuracy of Logisteic Regression classifier on test data = {:.2f}\".format(accuracy_score(y_test, y_test_pred)))"
      ],
      "execution_count": 68,
      "outputs": [
        {
          "output_type": "stream",
          "text": [
            "Accuracy of Logisteic Regression classifier on train data = 1.00\n",
            "Accuracy of Logisteic Regression classifier on test data = 0.82\n"
          ],
          "name": "stdout"
        }
      ]
    },
    {
      "cell_type": "code",
      "metadata": {
        "id": "2eUUBrEn4qFn",
        "colab": {
          "base_uri": "https://localhost:8080/",
          "height": 279
        },
        "outputId": "b49f362f-9fa4-4688-b009-9b33812f456f"
      },
      "source": [
        "#plot confusion matrix\n",
        "sns.heatmap(confusion_matrix(y_test, y_test_pred), annot=True)\n",
        "plt.xlabel(\"Observed\")\n",
        "plt.ylabel(\"Predicted\")\n",
        "plt.show()"
      ],
      "execution_count": 69,
      "outputs": [
        {
          "output_type": "display_data",
          "data": {
            "image/png": "[encoded data removed]",
            "text/plain": [
              "<Figure size 432x288 with 2 Axes>"
            ]
          },
          "metadata": {
            "tags": [],
            "needs_background": "light"
          }
        }
      ]
    },
    {
      "cell_type": "markdown",
      "metadata": {
        "id": "Z4Gu1uUHPL_8"
      },
      "source": [
        "Does this perform better than Decision Tree?\n",
        "\n",
        "Yes, it does perform better than Decision Tree."
      ]
    },
    {
      "cell_type": "markdown",
      "metadata": {
        "id": "wVpkgV6a5CLV"
      },
      "source": [
        "### 2.4 Random Forest **(15 marks)**"
      ]
    },
    {
      "cell_type": "markdown",
      "metadata": {
        "id": "WJA-i6WeOvDY"
      },
      "source": [
        "What's the basic idea?\n",
        "\n",
        "Bagging alone is not enough randomization, because even after bootstrapping, we are mainly training on the same data points using the same variables, and will retain much of the overfitting.\n",
        "\n",
        "So we will build each tree by splitting on **\"random\"** subset of predictors at each split (hence, each is a 'random tree'). This can't be done in with just one predictor, but with more predictors we can choose what predictors to split on randomly and how many to do this on. Then we combine many 'random trees' together by averaging their predictions, and this gets us a forest of random trees: a random forest.\n",
        "\n",
        "Below we create a hyper-param Grid(GridSearchCV). Things to remember:\n",
        "\n",
        "* `max_features` : int, float, string or None, optional (default=”auto”)\n",
        "  * The number of features to consider when looking for the best split. \n",
        "\n",
        "Steps to follow\n",
        "1. Provide the `model` as `RandomForestclassifer` with `random state = rf`\n",
        "2. Set the Rf parameters - `n_estimators`, `max_depth`, `max_features` and `min_samples_split`. - Chose the range to be what you think is suitable.\n",
        "3. Pass the Rf parameters and model to the GridSearchCV and set the `cv = 10` and `scoring = 'accuracy'`. Call this model RF_model\n",
        "4. Fit the model\n",
        "5. Find the testing and training accuracy\n",
        "6. Plot the confusion matrix"
      ]
    },
    {
      "cell_type": "code",
      "metadata": {
        "id": "62qlbZdWAl90",
        "colab": {
          "base_uri": "https://localhost:8080/"
        },
        "outputId": "af4a48c4-d58d-4efd-e193-22448eb2f5b8"
      },
      "source": [
        "#define the model, param_grid and fit the model\n",
        "forest_clf = RandomForestClassifier()\n",
        "param_grid = {'max_depth': [3,4,5,6,7], 'n_estimators': [300,600,700], 'max_features': [3,4,5,'auto'],'min_samples_split': [2,3,4,5]}\n",
        "RF_model = GridSearchCV(forest_clf, param_grid, n_jobs=-1, cv=10, scoring='accuracy')\n",
        "RF_model.fit(X_train, y_train)"
      ],
      "execution_count": 72,
      "outputs": [
        {
          "output_type": "execute_result",
          "data": {
            "text/plain": [
              "GridSearchCV(cv=10, error_score=nan,\n",
              "             estimator=RandomForestClassifier(bootstrap=True, ccp_alpha=0.0,\n",
              "                                              class_weight=None,\n",
              "                                              criterion='gini', max_depth=None,\n",
              "                                              max_features='auto',\n",
              "                                              max_leaf_nodes=None,\n",
              "                                              max_samples=None,\n",
              "                                              min_impurity_decrease=0.0,\n",
              "                                              min_impurity_split=None,\n",
              "                                              min_samples_leaf=1,\n",
              "                                              min_samples_split=2,\n",
              "                                              min_weight_fraction_leaf=0.0,\n",
              "                                              n_estimators=100, n_jobs=None,\n",
              "                                              oob_score=False,\n",
              "                                              random_state=None, verbose=0,\n",
              "                                              warm_start=False),\n",
              "             iid='deprecated', n_jobs=-1,\n",
              "             param_grid={'max_depth': [3, 4, 5, 6, 7],\n",
              "                         'max_features': [3, 4, 5, 'auto'],\n",
              "                         'min_samples_split': [2, 3, 4, 5],\n",
              "                         'n_estimators': [300, 600, 700]},\n",
              "             pre_dispatch='2*n_jobs', refit=True, return_train_score=False,\n",
              "             scoring='accuracy', verbose=0)"
            ]
          },
          "metadata": {
            "tags": []
          },
          "execution_count": 72
        }
      ]
    },
    {
      "cell_type": "code",
      "metadata": {
        "id": "Qiq3feNv5IlN",
        "colab": {
          "base_uri": "https://localhost:8080/"
        },
        "outputId": "9a8dec79-d606-4db1-b3c0-59ddbc0c216b"
      },
      "source": [
        "#Print the best parameters\n",
        "print(\"Best parameters=\", RF_model.best_params_)"
      ],
      "execution_count": 73,
      "outputs": [
        {
          "output_type": "stream",
          "text": [
            "Best parameters= {'max_depth': 4, 'max_features': 4, 'min_samples_split': 5, 'n_estimators': 300}\n"
          ],
          "name": "stdout"
        }
      ]
    },
    {
      "cell_type": "code",
      "metadata": {
        "id": "zL3O_IJs5KXR",
        "colab": {
          "base_uri": "https://localhost:8080/"
        },
        "outputId": "a739c4e2-c325-4705-f2fd-0c12849682e3"
      },
      "source": [
        "#Performance\n",
        "best_rf = RF_model.best_estimator_\n",
        "y_train_pred = best_rf.predict(X_train)\n",
        "y_test_pred = best_rf.predict(X_test)\n",
        "\n",
        "print(\"Accuracy of Random Forest classifier on train data = {:.2f}\".format(accuracy_score(y_train, y_train_pred)))\n",
        "print(\"Accuracy of Random Forest classifier on test data = {:.2f}\".format(accuracy_score(y_test, y_test_pred)))"
      ],
      "execution_count": 91,
      "outputs": [
        {
          "output_type": "stream",
          "text": [
            "Accuracy of Random Forest classifier on train data = 0.93\n",
            "Accuracy of Random Forest classifier on test data = 0.84\n"
          ],
          "name": "stdout"
        }
      ]
    },
    {
      "cell_type": "code",
      "metadata": {
        "id": "6futWe-N5MW0",
        "colab": {
          "base_uri": "https://localhost:8080/",
          "height": 279
        },
        "outputId": "8123d66a-6b50-498c-bc79-292fe732f365"
      },
      "source": [
        "#plot the confusion matrix\n",
        "sns.heatmap(confusion_matrix(y_test, y_test_pred), annot=True)\n",
        "plt.xlabel(\"Observed\")\n",
        "plt.ylabel(\"Predicted\")\n",
        "plt.show()"
      ],
      "execution_count": 75,
      "outputs": [
        {
          "output_type": "display_data",
          "data": {
            "image/png": "[encoded data removed]",
            "text/plain": [
              "<Figure size 432x288 with 2 Axes>"
            ]
          },
          "metadata": {
            "tags": [],
            "needs_background": "light"
          }
        }
      ]
    },
    {
      "cell_type": "markdown",
      "metadata": {
        "id": "PQwaiVHR5TW5"
      },
      "source": [
        "#### 2.4.1 Permutance Importance \n",
        "\n",
        "Comparison between Bagging model and Random Forest Model"
      ]
    },
    {
      "cell_type": "markdown",
      "metadata": {
        "id": "NonBngZJlfxu"
      },
      "source": [
        "1. Define a function to plot the permutance importance.\n",
        "2. Next call the sklearn function permutance importance and pass the Random Forest and Bagging model to it.\n",
        "3. Using the plotting function defined in step 1, compare the permutance importance plots for both the models"
      ]
    },
    {
      "cell_type": "code",
      "metadata": {
        "id": "G5aCDcOQLJ-q"
      },
      "source": [
        "def p_importance(model, cols, fi, fistd = 0):\n",
        "    return pd.DataFrame({'features':cols, 'importance':fi, 'importance_std': fistd}\n",
        "                       ).sort_values('importance', ascending=False)"
      ],
      "execution_count": 76,
      "outputs": []
    },
    {
      "cell_type": "code",
      "metadata": {
        "id": "KjP9F4pKLIyZ"
      },
      "source": [
        "# find permutation importance for Bagging and Random Forest models\n",
        "bag_imp = permutation_importance(bag_gs, X_train, y_train, random_state=rf)\n",
        "rf_importance = permutation_importance(best_rf, X_train, y_train, random_state=rf)"
      ],
      "execution_count": 77,
      "outputs": []
    },
    {
      "cell_type": "code",
      "metadata": {
        "id": "HBKBxFXYLF1U"
      },
      "source": [
        "#plot the permutance importance using the function define above\n",
        "bagging_imp_df = p_importance(bag_best, list(X_train.columns), bag_imp['importances_mean'], bag_imp['importances_std'])\n",
        "rf_imp_df = p_importance(best_rf, list(X_train.columns), rf_importance['importances_mean'], rf_importance['importances_std'])"
      ],
      "execution_count": 85,
      "outputs": []
    },
    {
      "cell_type": "code",
      "metadata": {
        "id": "Wa-6oiIRgvhD"
      },
      "source": [
        "fig,ax=plt.subplots(figsize=(15,8))\n",
        "sns.lineplot(data = bag_imp_df, x='features', y='importance', marker=\"o\", label='Bagging importances')\n",
        "sns.lineplot(data= rf_importance, x='features', y='importance', marker=\"o\", label='RandomForest importances')\n",
        "plt.title(\"Comparison between Bagging and Random forest models\")\n",
        "plt.legend();"
      ],
      "execution_count": null,
      "outputs": []
    },
    {
      "cell_type": "markdown",
      "metadata": {
        "id": "Bh8t6QPCHl-l"
      },
      "source": [
        "#### 2.4.2 Out of Bag Score"
      ]
    },
    {
      "cell_type": "markdown",
      "metadata": {
        "id": "hUU-rywbsaZa"
      },
      "source": [
        "Out of bag (OOB) score is a way of validating the Random forest model."
      ]
    },
    {
      "cell_type": "markdown",
      "metadata": {
        "id": "P9mUxz0-PA2U"
      },
      "source": [
        "We'll now engage in our very own version of a grid-search, done over the out-of-bag scores that sklearn gives us for free. \n",
        "\n",
        "1. Set the values for `n_estimators` and `max_features`,` max_depth` and `min_samples_split` in a `param_dict`\n",
        "2. Create two lists - results and estimators\n",
        "  * `results` will store the `oob_score` for each tree you fit\n",
        "  * `estimators` will score the parameters for each tree\n",
        "3. Run your model through values of the `param_dict`\n",
        "4. Get the best value of oob_score from results, and assign that to `outparams` variable\n",
        "5. Get the best estimator from the `outparams` for the best `oob_score`\n",
        "6. Check the accuracy of the model(best_estimator)\n",
        "7. Plot the confusion matrix\n"
      ]
    },
    {
      "cell_type": "code",
      "metadata": {
        "id": "5O9-jnpJVCRa",
        "colab": {
          "base_uri": "https://localhost:8080/"
        },
        "outputId": "a439a2bb-b2ec-4711-ac37-bce724ac3532"
      },
      "source": [
        "from itertools import product\n",
        "from collections import OrderedDict\n",
        "#setting the depth and min_samples_split and max_features\n",
        "param_dict = OrderedDict(n_estimators = range(80,500), max_features = [\"auto\"], min_samples_split = range(2,30))\n",
        "param_dict.values()"
      ],
      "execution_count": 87,
      "outputs": [
        {
          "output_type": "execute_result",
          "data": {
            "text/plain": [
              "odict_values([range(80, 500), ['auto'], range(2, 30)])"
            ]
          },
          "metadata": {
            "tags": []
          },
          "execution_count": 87
        }
      ]
    },
    {
      "cell_type": "code",
      "metadata": {
        "id": "YAMN87a7VMg4"
      },
      "source": [
        "results = {}\n",
        "estimators= {}\n",
        "for n_estimator, mf,mss in product(*param_dict.values()):\n",
        "  params = (n_estimator, mf,mss)\n",
        "  est = BaggingClassifier(\n",
        "  n_estimators=n_estimator,\n",
        "  base_estimator = DecisionTreeClassifier(\n",
        "  min_samples_split=mss,\n",
        "  max_features=mf),\n",
        "  oob_score=True,\n",
        "  n_jobs=-1)\n",
        "  est.fit(X_train, y_train)\n",
        "  results[params] = est.oob_score_\n",
        "  estimators[params] = est\n",
        "outparams = max(results, key = results.get)"
      ],
      "execution_count": null,
      "outputs": []
    },
    {
      "cell_type": "code",
      "metadata": {
        "id": "qGMAMsGtHPmJ"
      },
      "source": [
        "#Call the best estimator from the previous loop of estimators for outparams as Random_Oob\n",
        "Random_Oob = estimators[outparams]"
      ],
      "execution_count": null,
      "outputs": []
    },
    {
      "cell_type": "code",
      "metadata": {
        "id": "4IrsmErYHZIf"
      },
      "source": [
        "#Performance\n",
        "Random_Oob.score(X_train, y_train)\n",
        "Random_Oob.score(X_test, y_test)\n",
        "Random_Oob.oob_score_"
      ],
      "execution_count": null,
      "outputs": []
    },
    {
      "cell_type": "code",
      "metadata": {
        "id": "I42_8WQ2HfL_"
      },
      "source": [
        "#Plot the confusion matrix \n",
        "y_test_pred = Random_Oob.predict(X_test)\n",
        "sns.heatmap(confusion_matrix(y_test, y_test_pred), annot=True)\n",
        "plt.xlabel(\"Observed\")\n",
        "plt.ylabel(\"Predicted\")\n",
        "plt.show()"
      ],
      "execution_count": null,
      "outputs": []
    },
    {
      "cell_type": "markdown",
      "metadata": {
        "id": "76ijoYIePt8D"
      },
      "source": [
        "##### Comparing OOB_score with Random Forest cross validation \n",
        "\n",
        "In the beginning of section 2.4 you found the best parameters to set for your RandomForest Classifer in the **RF_model**.\n",
        "\n",
        "In this step, build a model call it RF_compare, and set the parameters same as the best params you got from **RF_model** and also set the **oob_score as true**. \n",
        "Compare the results you get from this model against the base model you had for Randomforest"
      ]
    },
    {
      "cell_type": "code",
      "metadata": {
        "id": "lIlF_nvfQf3v"
      },
      "source": [
        "#define the model, set the best parameters and oob_score = true\n",
        "RF_compare = RandomForestClassifier(n_estimators= 300, max_features = 4, max_depth = 4, min_samples_split = 5, oob_score=True)\n",
        "RF_compare.fit(X_train, y_train)\n",
        "y_train_pred = RF_compare.predict(X_train)\n",
        "y_test_pred = RF_compare.predict(X_test)"
      ],
      "execution_count": 95,
      "outputs": []
    },
    {
      "cell_type": "code",
      "metadata": {
        "id": "xKSiHl6sQf30",
        "colab": {
          "base_uri": "https://localhost:8080/"
        },
        "outputId": "12290c3e-a79a-4851-b462-046fbda58293"
      },
      "source": [
        "#Performance\n",
        "print(\"Accuracy of Random Forest classifier with oob on train data = {:.2f}\".format(accuracy_score(y_train, y_train_pred)))\n",
        "print(\"Accuracy of Random Forest classifier with oob test data = {:.2f}\".format(accuracy_score(y_test, y_test_pred)))"
      ],
      "execution_count": 96,
      "outputs": [
        {
          "output_type": "stream",
          "text": [
            "Accuracy of Random Forest classifier with oob on train data = 0.92\n",
            "Accuracy of Random Forest classifier with oob test data = 0.84\n"
          ],
          "name": "stdout"
        }
      ]
    },
    {
      "cell_type": "code",
      "metadata": {
        "id": "PqbbchEkQf30",
        "colab": {
          "base_uri": "https://localhost:8080/",
          "height": 279
        },
        "outputId": "f50657ef-7365-4b5a-fda3-5d9a68ce435a"
      },
      "source": [
        "#plot the confusion matrix\n",
        "sns.heatmap(confusion_matrix(y_test, y_test_pred), annot=True)\n",
        "plt.xlabel(\"Observed\")\n",
        "plt.ylabel(\"Predicted\")\n",
        "plt.show()"
      ],
      "execution_count": 97,
      "outputs": [
        {
          "output_type": "display_data",
          "data": {
            "image/png": "[encoded data removed]",
            "text/plain": [
              "<Figure size 432x288 with 2 Axes>"
            ]
          },
          "metadata": {
            "tags": [],
            "needs_background": "light"
          }
        }
      ]
    },
    {
      "cell_type": "markdown",
      "metadata": {
        "id": "p-sc8Jw4QqE6"
      },
      "source": [
        "###### Does your **RF_compare** model perform better or worse than the cross validated model - **RF_model**? Do you think its necessary to cross validate for a random forest?\n",
        "\n",
        "Both the models are doing the same and this means that it is not necessary to cross validate a random forest."
      ]
    },
    {
      "cell_type": "markdown",
      "metadata": {
        "id": "F_HB3eZsGrB8"
      },
      "source": [
        "### 2.5 Boosting Tree **(10 marks)**"
      ]
    },
    {
      "cell_type": "markdown",
      "metadata": {
        "id": "272B092KreZv"
      },
      "source": [
        "Adaboost Classification, is a special case of a gradient-boosted algorithm. Gradient Boosting is very state of the art, and has major connections to logistic regression, gradient descent in a functional space, and search in information space.\n",
        "\n",
        "The idea is that we will use a bunch of weak 'learners' (aka, models) which are fit sequentially. The first one fits the signal, the second one the first model's residual, the third the second model's residual, and so on. At each stage we upweight the places that our previous model did badly on. \n",
        "\n",
        "Things to remember:\n",
        "* `n_estimators` is the number of trees, and thus the stage in the fitting. It also controls the complexity for us. The more trees we have the more we fit to the tiny details.\n",
        "*`learning_rate` Learning rate shrinks the contribution of each classifier by learning_rate. There is a trade-off between learning_rate and n_estimators."
      ]
    },
    {
      "cell_type": "markdown",
      "metadata": {
        "id": "BsBrhPjCnQjZ"
      },
      "source": [
        "Steps to follow\n",
        "1. Provide the model as AdaBoostclassifer with `random state = rf`\n",
        "2. Set the boosting parameters - boost__n_estimators to be a range from 10 to 120. and `\"boost__learning_rate\":[0.001,0.01,0.1,0.2, 0.5,1,1.2,1.5]`\n",
        "3. Pass the bagging parameters and pipeline to GridSearchCV and set the `cv = 10` and `scoring = 'accuracy'`\n",
        "4. Fit the model\n",
        "5. Find the best hyperparameters, testing and training accuracy\n",
        "6. Plot the confusion matrix\n"
      ]
    },
    {
      "cell_type": "code",
      "metadata": {
        "id": "zWGp4mr2bM01"
      },
      "source": [
        "#Build an adaboost pipe\n",
        "boost__n_estimators = range(10,120)\n",
        "boost__learning_rate = [0.001,0.01,0.1,0.2,0.5,1,1.2,1.5]\n",
        "param_grid = {'n_estimators': boost__n_estimators, 'learning_rate': boost__learning_rate}\n",
        "\n",
        "boost = AdaBoostClassifier(base_estimator = DecisionTreeClassifier(max_depth = 1, max_leaf_nodes=2), random_state = rf)\n",
        "\n",
        "boost_gs = GridSearchCV(boost, param_grid = param_grid, scoring = 'accuracy', cv = 10,  return_train_score=True)\n",
        "boost_gs.fit(X_train,y_train)"
      ],
      "execution_count": null,
      "outputs": []
    },
    {
      "cell_type": "code",
      "metadata": {
        "id": "IeQFvSjBbQGg"
      },
      "source": [
        "#Print the best hyperparameters\n",
        "print(boost_gs.best_params_)"
      ],
      "execution_count": null,
      "outputs": []
    },
    {
      "cell_type": "code",
      "metadata": {
        "id": "OOiQYAIMG9mP"
      },
      "source": [
        "#Performance\n",
        "best_boost_model = boost_gs.best_estimator_\n",
        "boost_model = best_boost_model.fit(X_train,y_train)\n",
        "boost_train = accuracy(X_train,y_train,boost_model)\n",
        "boost_test = accuracy(X_test,y_test,boost_model)\n",
        "\n",
        "print('Training accuracy is {:.2f}'.format(boost_train))\n",
        "print('Testing accuracy is {:.2f}'.format(boost_test))"
      ],
      "execution_count": null,
      "outputs": []
    },
    {
      "cell_type": "code",
      "metadata": {
        "id": "MvjlS7c9IJa7"
      },
      "source": [
        "#plot the confusion matrix\n",
        "plot_confusion_matrix(boost_model,X_test,y_test)"
      ],
      "execution_count": null,
      "outputs": []
    },
    {
      "cell_type": "markdown",
      "metadata": {
        "id": "AFsD6kCSH_wH"
      },
      "source": [
        "### 2.6 XGboost **(10 marks)**"
      ]
    },
    {
      "cell_type": "markdown",
      "metadata": {
        "id": "7BmSOhp5sAq1"
      },
      "source": [
        "XGBoost is an optimized distributed gradient boosting library designed to be highly efficient, flexible and portable. It implements machine learning algorithms under the Gradient Boosting framework. To read more about XGBoost, click [here](https://xgboost.readthedocs.io/en/latest/)"
      ]
    },
    {
      "cell_type": "markdown",
      "metadata": {
        "id": "hArj4Pskn-By"
      },
      "source": [
        "Steps to follow\n",
        "\n",
        "1. Set the classifer as XGBClassifer \n",
        "2. Set the xgb_parameters - n_estimators to be a range from [10,20,30,40,50,60,70,80,90,100,120,130,140,150]. and `'learning_rate': [0.001, 0.01, .1,.4, .45, .5, .55, .6]`\n",
        "3. Pass the xgb_parameters to RandomizedSearchCV and set the cv = 10 and `scoring = 'accuracy'` and `n_iter = 100`\n",
        "4. Fit the model\n",
        "5. Find the best hyperparameters, testing and training accuracy\n",
        "6. Plot the confusion matrix"
      ]
    },
    {
      "cell_type": "code",
      "metadata": {
        "id": "YBxOiS5JIFhc"
      },
      "source": [
        "import xgboost as xgb"
      ],
      "execution_count": null,
      "outputs": []
    },
    {
      "cell_type": "code",
      "metadata": {
        "id": "_bswKQIiTLdc"
      },
      "source": [
        "#assign the XGB_Classifer\n",
        "#your code here\n",
        "XGB_Classifer = xgb.XGBClassifier(random_state = rf)"
      ],
      "execution_count": null,
      "outputs": []
    },
    {
      "cell_type": "code",
      "metadata": {
        "id": "I7MI7w7KII9f"
      },
      "source": [
        "#set parameters\n",
        "n_estimators = np.arange(10,160, step = 10)\n",
        "learning_rate = [0.001,0.01,0.1,0.4,0.45,0.55,0.6]\n",
        "param_grid = {'n_estimators': n_estimators, 'learning_rate': learning_rate}"
      ],
      "execution_count": null,
      "outputs": []
    },
    {
      "cell_type": "code",
      "metadata": {
        "id": "8ZaXfrigQxC-"
      },
      "source": [
        "#pass the parameters to the model and fit the model\n",
        "xgb_gs = RandomizedSearchCV(xgboost, param_grid, scoring = 'accuracy', cv = 10,  return_train_score=True, n_iter=100)\n",
        "xgb_gs.fit(X_train,y_train)"
      ],
      "execution_count": null,
      "outputs": []
    },
    {
      "cell_type": "code",
      "metadata": {
        "id": "LdSyHngMIJL3"
      },
      "source": [
        "#get the best parameter values\n",
        "print(xgb_gs.best_params_)"
      ],
      "execution_count": null,
      "outputs": []
    },
    {
      "cell_type": "code",
      "metadata": {
        "id": "PAV0X4WgJBDo"
      },
      "source": [
        "#Performance\n",
        "best_xgb_model = xgb_gs.best_estimator_\n",
        "xgb_model = best_xgb_model.fit(X_train,y_train)\n",
        "xgb_train = accuracy(X_train,y_train,xgb_model)\n",
        "xgb_test = accuracy(X_test,y_test,xgb_model)\n",
        "\n",
        "print('Training accuracy is {:.2f}'.format(xgb_train))\n",
        "print('Testing accuracy is {:.2f}'.format(xgb_test))"
      ],
      "execution_count": null,
      "outputs": []
    },
    {
      "cell_type": "code",
      "metadata": {
        "id": "Dev5W7oZIGrt"
      },
      "source": [
        "#plot the confusion matrix \n",
        "plot_confusion_matrix(xgb_model,X_test,y_test)\n",
        "plt.grid(False)"
      ],
      "execution_count": null,
      "outputs": []
    },
    {
      "cell_type": "markdown",
      "metadata": {
        "id": "fESTBzaYOTFh"
      },
      "source": [
        "## Part 3: Comparing all models **(10 marks)**"
      ]
    },
    {
      "cell_type": "markdown",
      "metadata": {
        "id": "PFIQNiXP3Rrq"
      },
      "source": [
        "Now that we have built all these models lets compare them:\n",
        "\n",
        "1. Plot all the testing accuracies for all the models - Logistic Regression Model, Decision Tree baseline, Decision tree with ideal_alpha, Decision tree with best depth, Bagging model, Random Forest model, Random Forest with oob_score = true, Boosting Model, XGBoost model\n",
        "\n",
        "2. Plot the overfitting accuracies for all the models - train accuracy - test accuracy\n",
        "\n",
        "3. Plot the confusion matrix for the all the models\n",
        "\n",
        "4. Based on these plots draw a conclusion for which is the best and worst performing model."
      ]
    },
    {
      "cell_type": "code",
      "metadata": {
        "id": "1tHSlofsbRVl"
      },
      "source": [
        "#Comparing performance of all models - testing accuracy\n",
        "models_list = [bs_gs, DecisionTree, DT_test, DT_pruned, DT_max_depth, best, RF_model, RF_compare, ada_model, xgb_random]"
      ],
      "execution_count": null,
      "outputs": []
    },
    {
      "cell_type": "code",
      "metadata": {
        "id": "pVyZ6t_YxOb6"
      },
      "source": [
        "error={'train_accuracy':[],'test_accuracy':[],'overfit':[],'name':[]}\n",
        "for i in range(len(model_list)):\n",
        "  error['train_accuracy'].append(accuracy(X_train,y_train,model_list[i]))\n",
        "  error['test_accuracy'].append(accuracy(X_test,y_test,model_list[i]))\n",
        "  error['overfit'].append((accuracy(X_train,y_train,model_list[i])-accuracy(X_test,y_test,model_list[i])))\n",
        "  error['name'].append(str(model_list[i]).split('(')[0]+str(i))"
      ],
      "execution_count": null,
      "outputs": []
    },
    {
      "cell_type": "code",
      "metadata": {
        "id": "TtQOnk2lc9uk"
      },
      "source": [
        "error=pd.DataFrame(error)\n",
        "error=error.sort_values(by='test_accuracy')"
      ],
      "execution_count": null,
      "outputs": []
    },
    {
      "cell_type": "code",
      "metadata": {
        "id": "3fj7Wl_5dSER"
      },
      "source": [
        "#Comparing performance of all models - testing accuracy\n",
        "fig,ax=plt.subplots(figsize=(15,8))\n",
        "plt.plot(error['name'],error['test_accuracy'],marker='o',color='crimson',label='test')\n",
        "plt.plot(error['name'],error['train_accuracy'],marker='o',color='blue',label='train')\n",
        "plt.xticks(rotation='90')\n",
        "ax.set_ylabel(\"Accuracy\")\n",
        "ax.set_xlabel(\"models\")\n",
        "plt.legend()\n",
        "plt.title(\"Comparsion of Model accuracies\");"
      ],
      "execution_count": null,
      "outputs": []
    },
    {
      "cell_type": "code",
      "metadata": {
        "id": "huc2BwO4dY2e"
      },
      "source": [
        "#overfitting\n",
        "fig,ax=plt.subplots(figsize=(15,8))\n",
        "plt.plot(error['name'],error['overfit'],marker='o',color='green',label='overfitting')\n",
        "plt.xticks(rotation='90')\n",
        "ax.set_ylabel(\"Accuracy_differences\")\n",
        "ax.set_xlabel(\"models\")\n",
        "plt.legend()\n",
        "plt.title(\"Comparsion of Model overfitting\");"
      ],
      "execution_count": null,
      "outputs": []
    },
    {
      "cell_type": "code",
      "metadata": {
        "id": "B2ijGNCjxP2R"
      },
      "source": [
        "#confusion matrix\n",
        "for i in range(len(model_list)):\n",
        "  plot_confusion_matrix(model_list[i],X_test,y_test,cmap='Blues')"
      ],
      "execution_count": null,
      "outputs": []
    },
    {
      "cell_type": "markdown",
      "metadata": {
        "id": "5h8ldyvmpnBT"
      },
      "source": [
        "#### **Which is the best and worse model?**\n",
        "\n",
        "your answer here"
      ]
    },
    {
      "cell_type": "markdown",
      "metadata": {
        "id": "ZUNRUcfd4HpG"
      },
      "source": [
        "## Bonus Question **(20 marks)**\n",
        "The dataset provided to you is already preprocessed - all variables are already one-hot encoded. \n",
        "\n",
        "Sklearn requires all its categorical variables to be one-hot encoded. But tree based methods work best with **ordinal encoding**. \n",
        "Get the original data from [here](http://archive.ics.uci.edu/ml/datasets/heart+disease), and ordinal encode the variables. Run one of the tree models to check how ordinal encoding is better. "
      ]
    },
    {
      "cell_type": "code",
      "metadata": {
        "id": "ur5udiu0x0QV"
      },
      "source": [
        ""
      ],
      "execution_count": null,
      "outputs": []
    }
  ]
}